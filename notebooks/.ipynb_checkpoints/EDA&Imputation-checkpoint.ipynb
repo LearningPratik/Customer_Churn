{
 "cells": [
  {
   "cell_type": "code",
   "execution_count": 288,
   "id": "ecb6ad91-2da6-4b72-8014-84b1cc03c371",
   "metadata": {},
   "outputs": [],
   "source": [
    "import warnings\n",
    "\n",
    "warnings.filterwarnings('ignore')"
   ]
  },
  {
   "cell_type": "code",
   "execution_count": 1,
   "id": "41ca8307-5e69-4303-8e69-bfea0ae51aff",
   "metadata": {},
   "outputs": [
    {
     "data": {
      "text/html": [
       "<div>\n",
       "<style scoped>\n",
       "    .dataframe tbody tr th:only-of-type {\n",
       "        vertical-align: middle;\n",
       "    }\n",
       "\n",
       "    .dataframe tbody tr th {\n",
       "        vertical-align: top;\n",
       "    }\n",
       "\n",
       "    .dataframe thead th {\n",
       "        text-align: right;\n",
       "    }\n",
       "</style>\n",
       "<table border=\"1\" class=\"dataframe\">\n",
       "  <thead>\n",
       "    <tr style=\"text-align: right;\">\n",
       "      <th></th>\n",
       "      <th>customerID</th>\n",
       "      <th>gender</th>\n",
       "      <th>SeniorCitizen</th>\n",
       "      <th>Partner</th>\n",
       "      <th>Dependents</th>\n",
       "      <th>tenure</th>\n",
       "      <th>PhoneService</th>\n",
       "      <th>MultipleLines</th>\n",
       "      <th>InternetService</th>\n",
       "      <th>OnlineSecurity</th>\n",
       "      <th>...</th>\n",
       "      <th>DeviceProtection</th>\n",
       "      <th>TechSupport</th>\n",
       "      <th>StreamingTV</th>\n",
       "      <th>StreamingMovies</th>\n",
       "      <th>Contract</th>\n",
       "      <th>PaperlessBilling</th>\n",
       "      <th>PaymentMethod</th>\n",
       "      <th>MonthlyCharges</th>\n",
       "      <th>TotalCharges</th>\n",
       "      <th>Churn</th>\n",
       "    </tr>\n",
       "  </thead>\n",
       "  <tbody>\n",
       "    <tr>\n",
       "      <th>3017</th>\n",
       "      <td>1402-PTHGN</td>\n",
       "      <td>Female</td>\n",
       "      <td>0</td>\n",
       "      <td>Yes</td>\n",
       "      <td>Yes</td>\n",
       "      <td>18</td>\n",
       "      <td>Yes</td>\n",
       "      <td>No</td>\n",
       "      <td>DSL</td>\n",
       "      <td>Yes</td>\n",
       "      <td>...</td>\n",
       "      <td>No</td>\n",
       "      <td>Yes</td>\n",
       "      <td>No</td>\n",
       "      <td>No</td>\n",
       "      <td>One year</td>\n",
       "      <td>Yes</td>\n",
       "      <td>Mailed check</td>\n",
       "      <td>61.50</td>\n",
       "      <td>1087.45</td>\n",
       "      <td>No</td>\n",
       "    </tr>\n",
       "    <tr>\n",
       "      <th>668</th>\n",
       "      <td>3859-CVCET</td>\n",
       "      <td>Female</td>\n",
       "      <td>0</td>\n",
       "      <td>No</td>\n",
       "      <td>No</td>\n",
       "      <td>4</td>\n",
       "      <td>Yes</td>\n",
       "      <td>No</td>\n",
       "      <td>DSL</td>\n",
       "      <td>No</td>\n",
       "      <td>...</td>\n",
       "      <td>No</td>\n",
       "      <td>No</td>\n",
       "      <td>No</td>\n",
       "      <td>No</td>\n",
       "      <td>Month-to-month</td>\n",
       "      <td>No</td>\n",
       "      <td>Mailed check</td>\n",
       "      <td>45.65</td>\n",
       "      <td>191.05</td>\n",
       "      <td>Yes</td>\n",
       "    </tr>\n",
       "    <tr>\n",
       "      <th>1614</th>\n",
       "      <td>3813-DHBBB</td>\n",
       "      <td>Male</td>\n",
       "      <td>0</td>\n",
       "      <td>Yes</td>\n",
       "      <td>No</td>\n",
       "      <td>67</td>\n",
       "      <td>No</td>\n",
       "      <td>No phone service</td>\n",
       "      <td>DSL</td>\n",
       "      <td>Yes</td>\n",
       "      <td>...</td>\n",
       "      <td>No</td>\n",
       "      <td>Yes</td>\n",
       "      <td>No</td>\n",
       "      <td>Yes</td>\n",
       "      <td>Two year</td>\n",
       "      <td>Yes</td>\n",
       "      <td>Bank transfer (automatic)</td>\n",
       "      <td>50.95</td>\n",
       "      <td>3521.7</td>\n",
       "      <td>No</td>\n",
       "    </tr>\n",
       "  </tbody>\n",
       "</table>\n",
       "<p>3 rows × 21 columns</p>\n",
       "</div>"
      ],
      "text/plain": [
       "      customerID  gender  SeniorCitizen Partner Dependents  tenure  \\\n",
       "3017  1402-PTHGN  Female              0     Yes        Yes      18   \n",
       "668   3859-CVCET  Female              0      No         No       4   \n",
       "1614  3813-DHBBB    Male              0     Yes         No      67   \n",
       "\n",
       "     PhoneService     MultipleLines InternetService OnlineSecurity  ...  \\\n",
       "3017          Yes                No             DSL            Yes  ...   \n",
       "668           Yes                No             DSL             No  ...   \n",
       "1614           No  No phone service             DSL            Yes  ...   \n",
       "\n",
       "     DeviceProtection TechSupport StreamingTV StreamingMovies        Contract  \\\n",
       "3017               No         Yes          No              No        One year   \n",
       "668                No          No          No              No  Month-to-month   \n",
       "1614               No         Yes          No             Yes        Two year   \n",
       "\n",
       "     PaperlessBilling              PaymentMethod MonthlyCharges  TotalCharges  \\\n",
       "3017              Yes               Mailed check          61.50       1087.45   \n",
       "668                No               Mailed check          45.65        191.05   \n",
       "1614              Yes  Bank transfer (automatic)          50.95        3521.7   \n",
       "\n",
       "     Churn  \n",
       "3017    No  \n",
       "668    Yes  \n",
       "1614    No  \n",
       "\n",
       "[3 rows x 21 columns]"
      ]
     },
     "execution_count": 1,
     "metadata": {},
     "output_type": "execute_result"
    }
   ],
   "source": [
    "import pandas as pd\n",
    "\n",
    "df = pd.read_csv(r'D:\\Projects\\churn_project\\data\\churn.csv')\n",
    "df.sample(3)"
   ]
  },
  {
   "cell_type": "code",
   "execution_count": 8,
   "id": "35e13192-98b4-421e-8185-92bee44cec07",
   "metadata": {},
   "outputs": [
    {
     "name": "stdout",
     "output_type": "stream",
     "text": [
      "<class 'pandas.core.frame.DataFrame'>\n",
      "RangeIndex: 7043 entries, 0 to 7042\n",
      "Data columns (total 21 columns):\n",
      " #   Column            Non-Null Count  Dtype  \n",
      "---  ------            --------------  -----  \n",
      " 0   customerID        7043 non-null   object \n",
      " 1   gender            7043 non-null   object \n",
      " 2   SeniorCitizen     7043 non-null   int64  \n",
      " 3   Partner           7043 non-null   object \n",
      " 4   Dependents        7043 non-null   object \n",
      " 5   tenure            7043 non-null   int64  \n",
      " 6   PhoneService      7043 non-null   object \n",
      " 7   MultipleLines     7043 non-null   object \n",
      " 8   InternetService   7043 non-null   object \n",
      " 9   OnlineSecurity    7043 non-null   object \n",
      " 10  OnlineBackup      7043 non-null   object \n",
      " 11  DeviceProtection  7043 non-null   object \n",
      " 12  TechSupport       7043 non-null   object \n",
      " 13  StreamingTV       7043 non-null   object \n",
      " 14  StreamingMovies   7043 non-null   object \n",
      " 15  Contract          7043 non-null   object \n",
      " 16  PaperlessBilling  7043 non-null   object \n",
      " 17  PaymentMethod     7043 non-null   object \n",
      " 18  MonthlyCharges    7043 non-null   float64\n",
      " 19  TotalCharges      7043 non-null   object \n",
      " 20  Churn             7043 non-null   object \n",
      "dtypes: float64(1), int64(2), object(18)\n",
      "memory usage: 1.1+ MB\n"
     ]
    }
   ],
   "source": [
    "df.info()"
   ]
  },
  {
   "cell_type": "code",
   "execution_count": 9,
   "id": "3850884e-6a60-4273-99c5-56a7084522f1",
   "metadata": {},
   "outputs": [
    {
     "data": {
      "text/plain": [
       "customerID          0\n",
       "gender              0\n",
       "SeniorCitizen       0\n",
       "Partner             0\n",
       "Dependents          0\n",
       "tenure              0\n",
       "PhoneService        0\n",
       "MultipleLines       0\n",
       "InternetService     0\n",
       "OnlineSecurity      0\n",
       "OnlineBackup        0\n",
       "DeviceProtection    0\n",
       "TechSupport         0\n",
       "StreamingTV         0\n",
       "StreamingMovies     0\n",
       "Contract            0\n",
       "PaperlessBilling    0\n",
       "PaymentMethod       0\n",
       "MonthlyCharges      0\n",
       "TotalCharges        0\n",
       "Churn               0\n",
       "dtype: int64"
      ]
     },
     "execution_count": 9,
     "metadata": {},
     "output_type": "execute_result"
    }
   ],
   "source": [
    "(\n",
    "    df\n",
    "    .isna()\n",
    "    .sum()\n",
    ")"
   ]
  },
  {
   "cell_type": "code",
   "execution_count": 15,
   "id": "beb32844-cabd-4de1-bf12-077d871b8809",
   "metadata": {},
   "outputs": [
    {
     "data": {
      "text/plain": [
       "0"
      ]
     },
     "execution_count": 15,
     "metadata": {},
     "output_type": "execute_result"
    }
   ],
   "source": [
    "df.duplicated().sum()"
   ]
  },
  {
   "cell_type": "code",
   "execution_count": 11,
   "id": "8f735586-1f55-4355-a3c1-f4848f8edd87",
   "metadata": {},
   "outputs": [
    {
     "data": {
      "text/plain": [
       "Index(['customerID', 'gender', 'SeniorCitizen', 'Partner', 'Dependents',\n",
       "       'tenure', 'PhoneService', 'MultipleLines', 'InternetService',\n",
       "       'OnlineSecurity', 'OnlineBackup', 'DeviceProtection', 'TechSupport',\n",
       "       'StreamingTV', 'StreamingMovies', 'Contract', 'PaperlessBilling',\n",
       "       'PaymentMethod', 'MonthlyCharges', 'TotalCharges', 'Churn'],\n",
       "      dtype='object')"
      ]
     },
     "execution_count": 11,
     "metadata": {},
     "output_type": "execute_result"
    }
   ],
   "source": [
    "df.columns"
   ]
  },
  {
   "cell_type": "code",
   "execution_count": 3,
   "id": "bad0b17e-6eb7-4253-99da-13a70d54bb24",
   "metadata": {},
   "outputs": [
    {
     "data": {
      "text/html": [
       "<div>\n",
       "<style scoped>\n",
       "    .dataframe tbody tr th:only-of-type {\n",
       "        vertical-align: middle;\n",
       "    }\n",
       "\n",
       "    .dataframe tbody tr th {\n",
       "        vertical-align: top;\n",
       "    }\n",
       "\n",
       "    .dataframe thead th {\n",
       "        text-align: right;\n",
       "    }\n",
       "</style>\n",
       "<table border=\"1\" class=\"dataframe\">\n",
       "  <thead>\n",
       "    <tr style=\"text-align: right;\">\n",
       "      <th></th>\n",
       "      <th>customerid</th>\n",
       "      <th>gender</th>\n",
       "      <th>seniorcitizen</th>\n",
       "      <th>partner</th>\n",
       "      <th>dependents</th>\n",
       "      <th>tenure</th>\n",
       "      <th>phoneservice</th>\n",
       "      <th>multiplelines</th>\n",
       "      <th>internetservice</th>\n",
       "      <th>onlinesecurity</th>\n",
       "      <th>...</th>\n",
       "      <th>deviceprotection</th>\n",
       "      <th>techsupport</th>\n",
       "      <th>streamingtv</th>\n",
       "      <th>streamingmovies</th>\n",
       "      <th>contract</th>\n",
       "      <th>paperlessbilling</th>\n",
       "      <th>paymentmethod</th>\n",
       "      <th>monthlycharges</th>\n",
       "      <th>totalcharges</th>\n",
       "      <th>churn</th>\n",
       "    </tr>\n",
       "  </thead>\n",
       "  <tbody>\n",
       "    <tr>\n",
       "      <th>2252</th>\n",
       "      <td>1813-JLKWR</td>\n",
       "      <td>Female</td>\n",
       "      <td>0</td>\n",
       "      <td>Yes</td>\n",
       "      <td>Yes</td>\n",
       "      <td>64</td>\n",
       "      <td>Yes</td>\n",
       "      <td>No</td>\n",
       "      <td>No</td>\n",
       "      <td>No internet service</td>\n",
       "      <td>...</td>\n",
       "      <td>No internet service</td>\n",
       "      <td>No internet service</td>\n",
       "      <td>No internet service</td>\n",
       "      <td>No internet service</td>\n",
       "      <td>One year</td>\n",
       "      <td>No</td>\n",
       "      <td>Bank transfer (automatic)</td>\n",
       "      <td>19.8</td>\n",
       "      <td>1336.65</td>\n",
       "      <td>No</td>\n",
       "    </tr>\n",
       "  </tbody>\n",
       "</table>\n",
       "<p>1 rows × 21 columns</p>\n",
       "</div>"
      ],
      "text/plain": [
       "      customerid  gender  seniorcitizen partner dependents  tenure  \\\n",
       "2252  1813-JLKWR  Female              0     Yes        Yes      64   \n",
       "\n",
       "     phoneservice multiplelines internetservice       onlinesecurity  ...  \\\n",
       "2252          Yes            No              No  No internet service  ...   \n",
       "\n",
       "         deviceprotection          techsupport          streamingtv  \\\n",
       "2252  No internet service  No internet service  No internet service   \n",
       "\n",
       "          streamingmovies  contract paperlessbilling  \\\n",
       "2252  No internet service  One year               No   \n",
       "\n",
       "                  paymentmethod monthlycharges  totalcharges churn  \n",
       "2252  Bank transfer (automatic)           19.8       1336.65    No  \n",
       "\n",
       "[1 rows x 21 columns]"
      ]
     },
     "execution_count": 3,
     "metadata": {},
     "output_type": "execute_result"
    }
   ],
   "source": [
    "df = df.rename(columns = str.lower)\n",
    "df.sample()"
   ]
  },
  {
   "cell_type": "code",
   "execution_count": 49,
   "id": "5b468b2c-08a2-4f4d-9a1a-6290e0d21989",
   "metadata": {},
   "outputs": [],
   "source": [
    "import seaborn as sns"
   ]
  },
  {
   "cell_type": "code",
   "execution_count": 80,
   "id": "a83ef05d-351b-4c4a-b18b-448325214dac",
   "metadata": {},
   "outputs": [],
   "source": [
    "def univariate_analysis(df, col):\n",
    "\n",
    "    cnt =  df[col].value_counts()\n",
    "    ax = sns.countplot(data = df, x = col,  color = 'green', stat = 'percent')\n",
    "    return cnt, ax"
   ]
  },
  {
   "cell_type": "markdown",
   "id": "7c37b064-6089-476d-8a12-1a7c0ef9e097",
   "metadata": {},
   "source": [
    "# Gender"
   ]
  },
  {
   "cell_type": "code",
   "execution_count": 81,
   "id": "806d5f2b-e0f8-4b06-86d2-f9e85fad2ea3",
   "metadata": {},
   "outputs": [
    {
     "data": {
      "text/plain": [
       "(gender\n",
       " Male      3555\n",
       " Female    3488\n",
       " Name: count, dtype: int64,\n",
       " <Axes: xlabel='gender', ylabel='percent'>)"
      ]
     },
     "execution_count": 81,
     "metadata": {},
     "output_type": "execute_result"
    },
    {
     "data": {
      "image/png": "[encoded data removed]",
      "text/plain": [
       "<Figure size 640x480 with 1 Axes>"
      ]
     },
     "metadata": {},
     "output_type": "display_data"
    }
   ],
   "source": [
    "univariate_analysis(df, 'gender')"
   ]
  },
  {
   "cell_type": "markdown",
   "id": "91b0dbee-5aef-4733-be17-f8985f366610",
   "metadata": {},
   "source": [
    "* Both the classes, Female and male are almost equal"
   ]
  },
  {
   "cell_type": "markdown",
   "id": "d2436d84-de74-4e24-80d9-cfeedf512781",
   "metadata": {},
   "source": [
    "# SeniorCitizen"
   ]
  },
  {
   "cell_type": "code",
   "execution_count": 82,
   "id": "abb6b309-e657-479f-891b-3d9e5e9bfbd4",
   "metadata": {},
   "outputs": [
    {
     "data": {
      "text/plain": [
       "(seniorcitizen\n",
       " 0    5901\n",
       " 1    1142\n",
       " Name: count, dtype: int64,\n",
       " <Axes: xlabel='seniorcitizen', ylabel='percent'>)"
      ]
     },
     "execution_count": 82,
     "metadata": {},
     "output_type": "execute_result"
    },
    {
     "data": {
      "image/png": "[encoded data removed]",
      "text/plain": [
       "<Figure size 640x480 with 1 Axes>"
      ]
     },
     "metadata": {},
     "output_type": "display_data"
    }
   ],
   "source": [
    "univariate_analysis(df, 'seniorcitizen')"
   ]
  },
  {
   "cell_type": "code",
   "execution_count": 103,
   "id": "7df00dab-d83a-4afd-aa73-8288bbb6ace0",
   "metadata": {},
   "outputs": [
    {
     "data": {
      "text/html": [
       "<div>\n",
       "<style scoped>\n",
       "    .dataframe tbody tr th:only-of-type {\n",
       "        vertical-align: middle;\n",
       "    }\n",
       "\n",
       "    .dataframe tbody tr th {\n",
       "        vertical-align: top;\n",
       "    }\n",
       "\n",
       "    .dataframe thead th {\n",
       "        text-align: right;\n",
       "    }\n",
       "</style>\n",
       "<table border=\"1\" class=\"dataframe\">\n",
       "  <thead>\n",
       "    <tr style=\"text-align: right;\">\n",
       "      <th></th>\n",
       "      <th>customerid</th>\n",
       "      <th>gender</th>\n",
       "      <th>seniorcitizen</th>\n",
       "      <th>partner</th>\n",
       "      <th>dependents</th>\n",
       "      <th>tenure</th>\n",
       "      <th>phoneservice</th>\n",
       "      <th>multiplelines</th>\n",
       "      <th>internetservice</th>\n",
       "      <th>onlinesecurity</th>\n",
       "      <th>...</th>\n",
       "      <th>deviceprotection</th>\n",
       "      <th>techsupport</th>\n",
       "      <th>streamingtv</th>\n",
       "      <th>streamingmovies</th>\n",
       "      <th>contract</th>\n",
       "      <th>paperlessbilling</th>\n",
       "      <th>paymentmethod</th>\n",
       "      <th>monthlycharges</th>\n",
       "      <th>totalcharges</th>\n",
       "      <th>churn</th>\n",
       "    </tr>\n",
       "  </thead>\n",
       "  <tbody>\n",
       "    <tr>\n",
       "      <th>6438</th>\n",
       "      <td>3551-HUAZH</td>\n",
       "      <td>Male</td>\n",
       "      <td>1</td>\n",
       "      <td>No</td>\n",
       "      <td>No</td>\n",
       "      <td>1</td>\n",
       "      <td>Yes</td>\n",
       "      <td>Yes</td>\n",
       "      <td>Fiber optic</td>\n",
       "      <td>No</td>\n",
       "      <td>...</td>\n",
       "      <td>No</td>\n",
       "      <td>No</td>\n",
       "      <td>No</td>\n",
       "      <td>No</td>\n",
       "      <td>Month-to-month</td>\n",
       "      <td>Yes</td>\n",
       "      <td>Electronic check</td>\n",
       "      <td>74.40</td>\n",
       "      <td>74.4</td>\n",
       "      <td>Yes</td>\n",
       "    </tr>\n",
       "    <tr>\n",
       "      <th>5794</th>\n",
       "      <td>1162-ECVII</td>\n",
       "      <td>Male</td>\n",
       "      <td>1</td>\n",
       "      <td>Yes</td>\n",
       "      <td>No</td>\n",
       "      <td>72</td>\n",
       "      <td>Yes</td>\n",
       "      <td>Yes</td>\n",
       "      <td>Fiber optic</td>\n",
       "      <td>No</td>\n",
       "      <td>...</td>\n",
       "      <td>Yes</td>\n",
       "      <td>Yes</td>\n",
       "      <td>Yes</td>\n",
       "      <td>Yes</td>\n",
       "      <td>Two year</td>\n",
       "      <td>Yes</td>\n",
       "      <td>Bank transfer (automatic)</td>\n",
       "      <td>109.75</td>\n",
       "      <td>7932.5</td>\n",
       "      <td>No</td>\n",
       "    </tr>\n",
       "    <tr>\n",
       "      <th>4401</th>\n",
       "      <td>7576-JMYWV</td>\n",
       "      <td>Female</td>\n",
       "      <td>1</td>\n",
       "      <td>Yes</td>\n",
       "      <td>Yes</td>\n",
       "      <td>46</td>\n",
       "      <td>Yes</td>\n",
       "      <td>Yes</td>\n",
       "      <td>Fiber optic</td>\n",
       "      <td>Yes</td>\n",
       "      <td>...</td>\n",
       "      <td>No</td>\n",
       "      <td>Yes</td>\n",
       "      <td>Yes</td>\n",
       "      <td>Yes</td>\n",
       "      <td>Month-to-month</td>\n",
       "      <td>Yes</td>\n",
       "      <td>Electronic check</td>\n",
       "      <td>110.20</td>\n",
       "      <td>4972.1</td>\n",
       "      <td>No</td>\n",
       "    </tr>\n",
       "  </tbody>\n",
       "</table>\n",
       "<p>3 rows × 21 columns</p>\n",
       "</div>"
      ],
      "text/plain": [
       "      customerid  gender  seniorcitizen partner dependents  tenure  \\\n",
       "6438  3551-HUAZH    Male              1      No         No       1   \n",
       "5794  1162-ECVII    Male              1     Yes         No      72   \n",
       "4401  7576-JMYWV  Female              1     Yes        Yes      46   \n",
       "\n",
       "     phoneservice multiplelines internetservice onlinesecurity  ...  \\\n",
       "6438          Yes           Yes     Fiber optic             No  ...   \n",
       "5794          Yes           Yes     Fiber optic             No  ...   \n",
       "4401          Yes           Yes     Fiber optic            Yes  ...   \n",
       "\n",
       "     deviceprotection techsupport streamingtv streamingmovies        contract  \\\n",
       "6438               No          No          No              No  Month-to-month   \n",
       "5794              Yes         Yes         Yes             Yes        Two year   \n",
       "4401               No         Yes         Yes             Yes  Month-to-month   \n",
       "\n",
       "     paperlessbilling              paymentmethod monthlycharges  totalcharges  \\\n",
       "6438              Yes           Electronic check          74.40          74.4   \n",
       "5794              Yes  Bank transfer (automatic)         109.75        7932.5   \n",
       "4401              Yes           Electronic check         110.20        4972.1   \n",
       "\n",
       "     churn  \n",
       "6438   Yes  \n",
       "5794    No  \n",
       "4401    No  \n",
       "\n",
       "[3 rows x 21 columns]"
      ]
     },
     "execution_count": 103,
     "metadata": {},
     "output_type": "execute_result"
    }
   ],
   "source": [
    "df[df['seniorcitizen'] == 1].sample(3)"
   ]
  },
  {
   "cell_type": "code",
   "execution_count": 109,
   "id": "818760f5-e44d-429c-8842-ec729562f1a4",
   "metadata": {},
   "outputs": [
    {
     "data": {
      "text/plain": [
       "<Axes: xlabel='seniorcitizen', ylabel='count'>"
      ]
     },
     "execution_count": 109,
     "metadata": {},
     "output_type": "execute_result"
    },
    {
     "data": {
      "image/png": "[encoded data removed]",
      "text/plain": [
       "<Figure size 640x480 with 1 Axes>"
      ]
     },
     "metadata": {},
     "output_type": "display_data"
    }
   ],
   "source": [
    "sns.countplot(data = df, x = 'seniorcitizen', hue = \"churn\")"
   ]
  },
  {
   "cell_type": "markdown",
   "id": "a9afe72f-9308-43cf-8577-699a93752d65",
   "metadata": {},
   "source": [
    "# Partner"
   ]
  },
  {
   "cell_type": "code",
   "execution_count": 100,
   "id": "5dc5fa0d-195e-4c4f-b285-a2055eb4d2f2",
   "metadata": {},
   "outputs": [
    {
     "data": {
      "text/plain": [
       "(partner\n",
       " No     3641\n",
       " Yes    3402\n",
       " Name: count, dtype: int64,\n",
       " <Axes: xlabel='partner', ylabel='percent'>)"
      ]
     },
     "execution_count": 100,
     "metadata": {},
     "output_type": "execute_result"
    },
    {
     "data": {
      "image/png": "[encoded data removed]",
      "text/plain": [
       "<Figure size 640x480 with 1 Axes>"
      ]
     },
     "metadata": {},
     "output_type": "display_data"
    }
   ],
   "source": [
    "univariate_analysis(df, 'partner')"
   ]
  },
  {
   "cell_type": "code",
   "execution_count": 117,
   "id": "783a1583-f95b-4f95-9b9a-a11db9604ba9",
   "metadata": {},
   "outputs": [
    {
     "data": {
      "text/plain": [
       "<Axes: xlabel='partner', ylabel='count'>"
      ]
     },
     "execution_count": 117,
     "metadata": {},
     "output_type": "execute_result"
    },
    {
     "data": {
      "image/png": "[encoded data removed]",
      "text/plain": [
       "<Figure size 640x480 with 1 Axes>"
      ]
     },
     "metadata": {},
     "output_type": "display_data"
    }
   ],
   "source": [
    "sns.countplot(data = df, x = 'partner', hue = \"churn\")"
   ]
  },
  {
   "cell_type": "code",
   "execution_count": 119,
   "id": "52c3d4b2-6cb4-484a-afd7-2f4a014cef44",
   "metadata": {},
   "outputs": [
    {
     "data": {
      "text/plain": [
       "(dependents\n",
       " No     4933\n",
       " Yes    2110\n",
       " Name: count, dtype: int64,\n",
       " <Axes: xlabel='dependents', ylabel='percent'>)"
      ]
     },
     "execution_count": 119,
     "metadata": {},
     "output_type": "execute_result"
    },
    {
     "data": {
      "image/png": "[encoded data removed]",
      "text/plain": [
       "<Figure size 640x480 with 1 Axes>"
      ]
     },
     "metadata": {},
     "output_type": "display_data"
    }
   ],
   "source": [
    "univariate_analysis(df, 'dependents')"
   ]
  },
  {
   "cell_type": "code",
   "execution_count": 120,
   "id": "82916386-0508-444c-8d85-b22d2e96a390",
   "metadata": {},
   "outputs": [
    {
     "data": {
      "text/plain": [
       "<Axes: xlabel='dependents', ylabel='count'>"
      ]
     },
     "execution_count": 120,
     "metadata": {},
     "output_type": "execute_result"
    },
    {
     "data": {
      "image/png": "[encoded data removed]",
      "text/plain": [
       "<Figure size 640x480 with 1 Axes>"
      ]
     },
     "metadata": {},
     "output_type": "display_data"
    }
   ],
   "source": [
    "sns.countplot(data = df, x = 'dependents', hue = \"churn\")"
   ]
  },
  {
   "cell_type": "code",
   "execution_count": 122,
   "id": "e7baa324-ee13-43e5-b8ba-8bd558b7cbd8",
   "metadata": {},
   "outputs": [
    {
     "data": {
      "text/plain": [
       "dependents  churn\n",
       "No          No       0.481329\n",
       "Yes         No       0.253301\n",
       "No          Yes      0.219083\n",
       "Yes         Yes      0.046287\n",
       "Name: proportion, dtype: float64"
      ]
     },
     "execution_count": 122,
     "metadata": {},
     "output_type": "execute_result"
    }
   ],
   "source": [
    "df[['dependents', 'churn']].value_counts(normalize = True)"
   ]
  },
  {
   "cell_type": "code",
   "execution_count": 152,
   "id": "b07f4ec0-1e1e-47a0-ac44-1d5d7ef39369",
   "metadata": {},
   "outputs": [
    {
     "data": {
      "text/plain": [
       "churn\n",
       "No     0.687209\n",
       "Yes    0.312791\n",
       "Name: proportion, dtype: float64"
      ]
     },
     "execution_count": 152,
     "metadata": {},
     "output_type": "execute_result"
    }
   ],
   "source": [
    "df[df['dependents'] == 'No']['churn'].value_counts(normalize = True)"
   ]
  },
  {
   "cell_type": "markdown",
   "id": "da3ddfad-5453-4494-ad59-39f91f209a68",
   "metadata": {},
   "source": [
    "* Customer having No dependents has higher chance of leaving compared to Yes dependents"
   ]
  },
  {
   "cell_type": "markdown",
   "id": "923961fa-4cc4-4769-a5e9-f5131ff40a3f",
   "metadata": {},
   "source": [
    "# Tenure"
   ]
  },
  {
   "cell_type": "code",
   "execution_count": 140,
   "id": "284cbfa2-1252-4d7e-88b7-f17e3cf886a3",
   "metadata": {},
   "outputs": [
    {
     "data": {
      "text/plain": [
       "1293    67\n",
       "465     70\n",
       "175     34\n",
       "927     13\n",
       "Name: tenure, dtype: int64"
      ]
     },
     "execution_count": 140,
     "metadata": {},
     "output_type": "execute_result"
    }
   ],
   "source": [
    "df.tenure.sample(4)"
   ]
  },
  {
   "cell_type": "code",
   "execution_count": 154,
   "id": "ade809c5-0507-4114-92e0-dc80380ed294",
   "metadata": {},
   "outputs": [
    {
     "data": {
      "text/plain": [
       "(0, 72)"
      ]
     },
     "execution_count": 154,
     "metadata": {},
     "output_type": "execute_result"
    }
   ],
   "source": [
    "df.tenure.min(), df.tenure.max()"
   ]
  },
  {
   "cell_type": "code",
   "execution_count": 155,
   "id": "e4fdb557-eafc-411c-9538-59921ea93b70",
   "metadata": {},
   "outputs": [
    {
     "data": {
      "text/plain": [
       "<Axes: xlabel='tenure'>"
      ]
     },
     "execution_count": 155,
     "metadata": {},
     "output_type": "execute_result"
    },
    {
     "data": {
      "image/png": "[encoded data removed]",
      "text/plain": [
       "<Figure size 640x480 with 1 Axes>"
      ]
     },
     "metadata": {},
     "output_type": "display_data"
    }
   ],
   "source": [
    "sns.boxplot(data = df, x = 'tenure')"
   ]
  },
  {
   "cell_type": "code",
   "execution_count": 156,
   "id": "f5c4b4ff-ab6c-4fcd-a008-e488c74bdc46",
   "metadata": {},
   "outputs": [
    {
     "data": {
      "text/plain": [
       "0.25     9.0\n",
       "0.50    29.0\n",
       "0.75    55.0\n",
       "Name: tenure, dtype: float64"
      ]
     },
     "execution_count": 156,
     "metadata": {},
     "output_type": "execute_result"
    }
   ],
   "source": [
    "df.tenure.quantile([0.25, 0.5, 0.75])"
   ]
  },
  {
   "cell_type": "code",
   "execution_count": 157,
   "id": "695152c4-f3ee-48bc-9450-1d86ed1c1060",
   "metadata": {},
   "outputs": [
    {
     "data": {
      "text/plain": [
       "<seaborn.axisgrid.FacetGrid at 0x26b59537530>"
      ]
     },
     "execution_count": 157,
     "metadata": {},
     "output_type": "execute_result"
    },
    {
     "data": {
      "image/png": "[encoded data removed]",
      "text/plain": [
       "<Figure size 500x500 with 1 Axes>"
      ]
     },
     "metadata": {},
     "output_type": "display_data"
    }
   ],
   "source": [
    "sns.displot(data = df, x = 'tenure')"
   ]
  },
  {
   "cell_type": "code",
   "execution_count": 184,
   "id": "731651c4-9d15-40dc-b9bc-7e1a5fefd1a9",
   "metadata": {},
   "outputs": [
    {
     "data": {
      "text/plain": [
       "(3116, 21)"
      ]
     },
     "execution_count": 184,
     "metadata": {},
     "output_type": "execute_result"
    }
   ],
   "source": [
    "df[df['tenure'] < 24].shape"
   ]
  },
  {
   "cell_type": "code",
   "execution_count": 187,
   "id": "3d9395ae-8585-4a29-8837-3fd9cb8209ba",
   "metadata": {},
   "outputs": [
    {
     "data": {
      "text/plain": [
       "(538, 21)"
      ]
     },
     "execution_count": 187,
     "metadata": {},
     "output_type": "execute_result"
    }
   ],
   "source": [
    "df[(df['tenure'] > 24) & (df['churn'] == 'Yes')].shape"
   ]
  },
  {
   "cell_type": "markdown",
   "id": "0acea157-efee-485d-aeda-270c9c7c4fdf",
   "metadata": {},
   "source": [
    "* People having tenure less than 24 or 6 months are more to churn then compared to others"
   ]
  },
  {
   "cell_type": "code",
   "execution_count": 188,
   "id": "d7e8cf3a-8051-47c2-a2b6-16cd5c14c0e1",
   "metadata": {},
   "outputs": [
    {
     "data": {
      "text/plain": [
       "Index(['customerid', 'gender', 'seniorcitizen', 'partner', 'dependents',\n",
       "       'tenure', 'phoneservice', 'multiplelines', 'internetservice',\n",
       "       'onlinesecurity', 'onlinebackup', 'deviceprotection', 'techsupport',\n",
       "       'streamingtv', 'streamingmovies', 'contract', 'paperlessbilling',\n",
       "       'paymentmethod', 'monthlycharges', 'totalcharges', 'churn'],\n",
       "      dtype='object')"
      ]
     },
     "execution_count": 188,
     "metadata": {},
     "output_type": "execute_result"
    }
   ],
   "source": [
    "df.columns"
   ]
  },
  {
   "cell_type": "markdown",
   "id": "f084ef2f-7e84-43b8-acd7-ca7dacabe563",
   "metadata": {},
   "source": [
    "# Phone service"
   ]
  },
  {
   "cell_type": "code",
   "execution_count": 191,
   "id": "63fda69e-38b5-4f39-aa84-8d8a7a9434ff",
   "metadata": {},
   "outputs": [
    {
     "data": {
      "text/plain": [
       "4172    Yes\n",
       "1374    Yes\n",
       "5993    Yes\n",
       "6488    Yes\n",
       "Name: phoneservice, dtype: object"
      ]
     },
     "execution_count": 191,
     "metadata": {},
     "output_type": "execute_result"
    }
   ],
   "source": [
    "df.phoneservice.sample(4)"
   ]
  },
  {
   "cell_type": "code",
   "execution_count": 193,
   "id": "b117fec6-ff09-404f-9b10-bdee6ccf1cbc",
   "metadata": {},
   "outputs": [
    {
     "data": {
      "text/plain": [
       "(phoneservice\n",
       " Yes    6361\n",
       " No      682\n",
       " Name: count, dtype: int64,\n",
       " <Axes: xlabel='phoneservice', ylabel='percent'>)"
      ]
     },
     "execution_count": 193,
     "metadata": {},
     "output_type": "execute_result"
    },
    {
     "data": {
      "image/png": "[encoded data removed]",
      "text/plain": [
       "<Figure size 640x480 with 1 Axes>"
      ]
     },
     "metadata": {},
     "output_type": "display_data"
    }
   ],
   "source": [
    "univariate_analysis(df, 'phoneservice')"
   ]
  },
  {
   "cell_type": "code",
   "execution_count": 194,
   "id": "2d7037a6-e589-4521-97cf-a9bec469753a",
   "metadata": {},
   "outputs": [
    {
     "data": {
      "text/plain": [
       "phoneservice  churn\n",
       "Yes           No       4662\n",
       "              Yes      1699\n",
       "No            No        512\n",
       "              Yes       170\n",
       "Name: count, dtype: int64"
      ]
     },
     "execution_count": 194,
     "metadata": {},
     "output_type": "execute_result"
    }
   ],
   "source": [
    "df[['phoneservice', 'churn']].value_counts()"
   ]
  },
  {
   "cell_type": "code",
   "execution_count": 199,
   "id": "9244d425-eea3-4bd8-9116-1b063700ba62",
   "metadata": {},
   "outputs": [
    {
     "data": {
      "text/plain": [
       "<Axes: xlabel='phoneservice', ylabel='count'>"
      ]
     },
     "execution_count": 199,
     "metadata": {},
     "output_type": "execute_result"
    },
    {
     "data": {
      "image/png": "[encoded data removed]",
      "text/plain": [
       "<Figure size 640x480 with 1 Axes>"
      ]
     },
     "metadata": {},
     "output_type": "display_data"
    }
   ],
   "source": [
    "sns.countplot(data = df, x = 'phoneservice', hue = 'churn')"
   ]
  },
  {
   "cell_type": "code",
   "execution_count": 203,
   "id": "f77ac6df-3824-48df-8982-0230ce3283cf",
   "metadata": {},
   "outputs": [
    {
     "data": {
      "text/plain": [
       "churn\n",
       "No     512\n",
       "Yes    170\n",
       "Name: count, dtype: int64"
      ]
     },
     "execution_count": 203,
     "metadata": {},
     "output_type": "execute_result"
    }
   ],
   "source": [
    "df[df['phoneservice'] == 'No']['churn'].value_counts()"
   ]
  },
  {
   "cell_type": "markdown",
   "id": "4ebe9619-7093-4be7-99e0-c3d2dd507b9a",
   "metadata": {},
   "source": [
    "* People who have opt for phone service has less probability of getting out of service."
   ]
  },
  {
   "cell_type": "markdown",
   "id": "727fa93d-b02d-4636-8506-09a78e0de1eb",
   "metadata": {},
   "source": [
    "# Multiple lines"
   ]
  },
  {
   "cell_type": "code",
   "execution_count": 205,
   "id": "62e2beb2-655d-42d4-855a-fded766699dd",
   "metadata": {},
   "outputs": [
    {
     "data": {
      "text/plain": [
       "multiplelines\n",
       "No                  3390\n",
       "Yes                 2971\n",
       "No phone service     682\n",
       "Name: count, dtype: int64"
      ]
     },
     "execution_count": 205,
     "metadata": {},
     "output_type": "execute_result"
    }
   ],
   "source": [
    "df.multiplelines.value_counts()"
   ]
  },
  {
   "cell_type": "code",
   "execution_count": 206,
   "id": "4e1ab46c-ea07-4818-8019-60fa82aa081d",
   "metadata": {},
   "outputs": [
    {
     "data": {
      "text/plain": [
       "(multiplelines\n",
       " No                  3390\n",
       " Yes                 2971\n",
       " No phone service     682\n",
       " Name: count, dtype: int64,\n",
       " <Axes: xlabel='multiplelines', ylabel='percent'>)"
      ]
     },
     "execution_count": 206,
     "metadata": {},
     "output_type": "execute_result"
    },
    {
     "data": {
      "image/png": "[encoded data removed]",
      "text/plain": [
       "<Figure size 640x480 with 1 Axes>"
      ]
     },
     "metadata": {},
     "output_type": "display_data"
    }
   ],
   "source": [
    "univariate_analysis(df, 'multiplelines')"
   ]
  },
  {
   "cell_type": "code",
   "execution_count": 207,
   "id": "b8622997-86cd-4d7f-898c-a1456da79356",
   "metadata": {},
   "outputs": [
    {
     "data": {
      "text/plain": [
       "<Axes: xlabel='multiplelines', ylabel='count'>"
      ]
     },
     "execution_count": 207,
     "metadata": {},
     "output_type": "execute_result"
    },
    {
     "data": {
      "image/png": "[encoded data removed]",
      "text/plain": [
       "<Figure size 640x480 with 1 Axes>"
      ]
     },
     "metadata": {},
     "output_type": "display_data"
    }
   ],
   "source": [
    "sns.countplot(data = df, x = 'multiplelines', hue = 'churn')"
   ]
  },
  {
   "cell_type": "markdown",
   "id": "fd46ebe0-812c-4170-966a-ce19605ee918",
   "metadata": {},
   "source": [
    "* People with no phone service are very less in number.\n",
    "* Other than this we don't have any clear distinction."
   ]
  },
  {
   "cell_type": "markdown",
   "id": "f440813e-b619-45d2-a76b-09917d317765",
   "metadata": {},
   "source": [
    "# Internet service"
   ]
  },
  {
   "cell_type": "code",
   "execution_count": 213,
   "id": "fa497171-5850-4ccc-852d-ee0915d703b7",
   "metadata": {},
   "outputs": [
    {
     "data": {
      "text/plain": [
       "4557    DSL\n",
       "4843     No\n",
       "3913     No\n",
       "5729    DSL\n",
       "Name: internetservice, dtype: object"
      ]
     },
     "execution_count": 213,
     "metadata": {},
     "output_type": "execute_result"
    }
   ],
   "source": [
    "df.internetservice.sample(4)"
   ]
  },
  {
   "cell_type": "code",
   "execution_count": 215,
   "id": "6268956a-f0fc-42cc-957f-2ffdeb60fd65",
   "metadata": {},
   "outputs": [
    {
     "data": {
      "text/plain": [
       "(internetservice\n",
       " Fiber optic    3096\n",
       " DSL            2421\n",
       " No             1526\n",
       " Name: count, dtype: int64,\n",
       " <Axes: xlabel='internetservice', ylabel='percent'>)"
      ]
     },
     "execution_count": 215,
     "metadata": {},
     "output_type": "execute_result"
    },
    {
     "data": {
      "image/png": "[encoded data removed]",
      "text/plain": [
       "<Figure size 640x480 with 1 Axes>"
      ]
     },
     "metadata": {},
     "output_type": "display_data"
    }
   ],
   "source": [
    "univariate_analysis(df, 'internetservice')"
   ]
  },
  {
   "cell_type": "code",
   "execution_count": 216,
   "id": "8bf68f6c-2cac-47a2-ae4d-4e6fe64c8b23",
   "metadata": {},
   "outputs": [
    {
     "data": {
      "text/plain": [
       "<Axes: xlabel='internetservice', ylabel='count'>"
      ]
     },
     "execution_count": 216,
     "metadata": {},
     "output_type": "execute_result"
    },
    {
     "data": {
      "image/png": "[encoded data removed]",
      "text/plain": [
       "<Figure size 640x480 with 1 Axes>"
      ]
     },
     "metadata": {},
     "output_type": "display_data"
    }
   ],
   "source": [
    "sns.countplot(data = df, x = 'internetservice', hue = 'churn')"
   ]
  },
  {
   "cell_type": "markdown",
   "id": "c4ff19ca-cd69-41fa-b260-1751fa02baf6",
   "metadata": {},
   "source": [
    "* People opting for DSL and leaving are low but people with fiber optic options leaving are higher in number."
   ]
  },
  {
   "cell_type": "markdown",
   "id": "cb2dcfad-d155-463e-acae-9b9bc6a81c3e",
   "metadata": {},
   "source": [
    "# Online security"
   ]
  },
  {
   "cell_type": "code",
   "execution_count": 220,
   "id": "66548087-2e7f-415c-9d05-1e50067f5345",
   "metadata": {},
   "outputs": [
    {
     "data": {
      "text/plain": [
       "3263                     No\n",
       "5344                    Yes\n",
       "6233    No internet service\n",
       "3641                     No\n",
       "Name: onlinesecurity, dtype: object"
      ]
     },
     "execution_count": 220,
     "metadata": {},
     "output_type": "execute_result"
    }
   ],
   "source": [
    "df.onlinesecurity.sample(4)"
   ]
  },
  {
   "cell_type": "code",
   "execution_count": 221,
   "id": "12a6d4ca-3a66-4f9a-a7bb-40913fb57e16",
   "metadata": {},
   "outputs": [
    {
     "data": {
      "text/plain": [
       "(onlinesecurity\n",
       " No                     3498\n",
       " Yes                    2019\n",
       " No internet service    1526\n",
       " Name: count, dtype: int64,\n",
       " <Axes: xlabel='onlinesecurity', ylabel='percent'>)"
      ]
     },
     "execution_count": 221,
     "metadata": {},
     "output_type": "execute_result"
    },
    {
     "data": {
      "image/png": "[encoded data removed]",
      "text/plain": [
       "<Figure size 640x480 with 1 Axes>"
      ]
     },
     "metadata": {},
     "output_type": "display_data"
    }
   ],
   "source": [
    "univariate_analysis(df, 'onlinesecurity')"
   ]
  },
  {
   "cell_type": "code",
   "execution_count": 222,
   "id": "132d54de-4eb7-4e2e-8798-83873b0911e7",
   "metadata": {},
   "outputs": [
    {
     "data": {
      "text/plain": [
       "<Axes: xlabel='onlinesecurity', ylabel='count'>"
      ]
     },
     "execution_count": 222,
     "metadata": {},
     "output_type": "execute_result"
    },
    {
     "data": {
      "image/png": "[encoded data removed]",
      "text/plain": [
       "<Figure size 640x480 with 1 Axes>"
      ]
     },
     "metadata": {},
     "output_type": "display_data"
    }
   ],
   "source": [
    "sns.countplot(data = df, x = 'onlinesecurity', hue = 'churn')"
   ]
  },
  {
   "cell_type": "markdown",
   "id": "8983c89d-732d-485d-ba4d-54ad0cab2855",
   "metadata": {},
   "source": [
    "* People with no online security service leaving are more in number."
   ]
  },
  {
   "cell_type": "markdown",
   "id": "161412c3-f254-4300-a647-b29667c19726",
   "metadata": {},
   "source": [
    "# Online backup"
   ]
  },
  {
   "cell_type": "code",
   "execution_count": 224,
   "id": "c1fca538-40fc-40da-8e75-23e8736b4c4a",
   "metadata": {},
   "outputs": [
    {
     "data": {
      "text/plain": [
       "dtype('O')"
      ]
     },
     "execution_count": 224,
     "metadata": {},
     "output_type": "execute_result"
    }
   ],
   "source": [
    "df.onlinebackup.dtypes"
   ]
  },
  {
   "cell_type": "code",
   "execution_count": 225,
   "id": "4aa2ddc8-b88b-4f07-98f7-6a174b0d95b7",
   "metadata": {},
   "outputs": [
    {
     "data": {
      "text/plain": [
       "(onlinebackup\n",
       " No                     3088\n",
       " Yes                    2429\n",
       " No internet service    1526\n",
       " Name: count, dtype: int64,\n",
       " <Axes: xlabel='onlinebackup', ylabel='percent'>)"
      ]
     },
     "execution_count": 225,
     "metadata": {},
     "output_type": "execute_result"
    },
    {
     "data": {
      "image/png": "[encoded data removed]",
      "text/plain": [
       "<Figure size 640x480 with 1 Axes>"
      ]
     },
     "metadata": {},
     "output_type": "display_data"
    }
   ],
   "source": [
    "univariate_analysis(df, 'onlinebackup')"
   ]
  },
  {
   "cell_type": "code",
   "execution_count": 227,
   "id": "6e404aa0-a72a-4155-962f-d537b7f689d0",
   "metadata": {},
   "outputs": [
    {
     "data": {
      "text/plain": [
       "<Axes: xlabel='onlinebackup', ylabel='percent'>"
      ]
     },
     "execution_count": 227,
     "metadata": {},
     "output_type": "execute_result"
    },
    {
     "data": {
      "image/png": "[encoded data removed]",
      "text/plain": [
       "<Figure size 640x480 with 1 Axes>"
      ]
     },
     "metadata": {},
     "output_type": "display_data"
    }
   ],
   "source": [
    "sns.countplot(data = df, x = 'onlinebackup', hue = 'churn', stat = 'percent')"
   ]
  },
  {
   "cell_type": "markdown",
   "id": "6ba75e19-b073-469d-bab7-b1cb759e0826",
   "metadata": {},
   "source": [
    "# Device protection"
   ]
  },
  {
   "cell_type": "code",
   "execution_count": 230,
   "id": "ec85d603-19f4-4f60-84ae-3c5eaf08dba2",
   "metadata": {},
   "outputs": [
    {
     "data": {
      "text/plain": [
       "3118    No internet service\n",
       "3785                    Yes\n",
       "5832                     No\n",
       "1193                    Yes\n",
       "Name: deviceprotection, dtype: object"
      ]
     },
     "execution_count": 230,
     "metadata": {},
     "output_type": "execute_result"
    }
   ],
   "source": [
    "df.deviceprotection.sample(4)"
   ]
  },
  {
   "cell_type": "code",
   "execution_count": 231,
   "id": "5a5c31e2-71a3-4d4d-bc03-15cdd20ce197",
   "metadata": {},
   "outputs": [
    {
     "data": {
      "text/plain": [
       "(deviceprotection\n",
       " No                     3095\n",
       " Yes                    2422\n",
       " No internet service    1526\n",
       " Name: count, dtype: int64,\n",
       " <Axes: xlabel='deviceprotection', ylabel='percent'>)"
      ]
     },
     "execution_count": 231,
     "metadata": {},
     "output_type": "execute_result"
    },
    {
     "data": {
      "image/png": "[encoded data removed]",
      "text/plain": [
       "<Figure size 640x480 with 1 Axes>"
      ]
     },
     "metadata": {},
     "output_type": "display_data"
    }
   ],
   "source": [
    "univariate_analysis(df, 'deviceprotection')"
   ]
  },
  {
   "cell_type": "code",
   "execution_count": 232,
   "id": "e126f27c-a88c-4e4e-8489-20858c38dc37",
   "metadata": {},
   "outputs": [
    {
     "data": {
      "text/plain": [
       "<Axes: xlabel='deviceprotection', ylabel='count'>"
      ]
     },
     "execution_count": 232,
     "metadata": {},
     "output_type": "execute_result"
    },
    {
     "data": {
      "image/png": "[encoded data removed]",
      "text/plain": [
       "<Figure size 640x480 with 1 Axes>"
      ]
     },
     "metadata": {},
     "output_type": "display_data"
    }
   ],
   "source": [
    "sns.countplot(data = df, x = 'deviceprotection', hue = 'churn')"
   ]
  },
  {
   "cell_type": "markdown",
   "id": "911c4435-b314-4999-8116-cf6af18c3883",
   "metadata": {},
   "source": [
    "* People not having device protection leaves more compared to others"
   ]
  },
  {
   "cell_type": "markdown",
   "id": "77c898bd-2e64-4ece-a8ed-3bc93a0662bd",
   "metadata": {},
   "source": [
    "# Tech support"
   ]
  },
  {
   "cell_type": "code",
   "execution_count": 236,
   "id": "f959ac84-26c6-4d73-88b2-2a4354d7f887",
   "metadata": {},
   "outputs": [
    {
     "data": {
      "text/plain": [
       "2846                     No\n",
       "1559    No internet service\n",
       "3489                    Yes\n",
       "2720                     No\n",
       "Name: techsupport, dtype: object"
      ]
     },
     "execution_count": 236,
     "metadata": {},
     "output_type": "execute_result"
    }
   ],
   "source": [
    "df.techsupport.sample(4)"
   ]
  },
  {
   "cell_type": "code",
   "execution_count": 237,
   "id": "9744b6e8-3d87-4509-94fb-d9749a5ef8ca",
   "metadata": {},
   "outputs": [
    {
     "data": {
      "text/plain": [
       "(techsupport\n",
       " No                     3473\n",
       " Yes                    2044\n",
       " No internet service    1526\n",
       " Name: count, dtype: int64,\n",
       " <Axes: xlabel='techsupport', ylabel='percent'>)"
      ]
     },
     "execution_count": 237,
     "metadata": {},
     "output_type": "execute_result"
    },
    {
     "data": {
      "image/png": "[encoded data removed]",
      "text/plain": [
       "<Figure size 640x480 with 1 Axes>"
      ]
     },
     "metadata": {},
     "output_type": "display_data"
    }
   ],
   "source": [
    "univariate_analysis(df, 'techsupport')"
   ]
  },
  {
   "cell_type": "code",
   "execution_count": 238,
   "id": "201e2ece-8faf-48b9-9b24-e75dbfbf60e3",
   "metadata": {},
   "outputs": [
    {
     "data": {
      "text/plain": [
       "<Axes: xlabel='techsupport', ylabel='count'>"
      ]
     },
     "execution_count": 238,
     "metadata": {},
     "output_type": "execute_result"
    },
    {
     "data": {
      "image/png": "[encoded data removed]",
      "text/plain": [
       "<Figure size 640x480 with 1 Axes>"
      ]
     },
     "metadata": {},
     "output_type": "display_data"
    }
   ],
   "source": [
    "sns.countplot(data = df, x = 'techsupport', hue = 'churn')"
   ]
  },
  {
   "cell_type": "markdown",
   "id": "8b898e77-bf37-4a60-8623-b1a0d59b9457",
   "metadata": {},
   "source": [
    "* People with no tech support leaves more often then others."
   ]
  },
  {
   "cell_type": "markdown",
   "id": "479bb3d8-0ace-4ff4-96bd-432659d509fc",
   "metadata": {},
   "source": [
    "# Streaming TV"
   ]
  },
  {
   "cell_type": "code",
   "execution_count": 241,
   "id": "c03fff0e-96dd-4185-bd04-0b2579947d1e",
   "metadata": {},
   "outputs": [
    {
     "data": {
      "text/plain": [
       "4608    Yes\n",
       "6283    Yes\n",
       "722      No\n",
       "919     Yes\n",
       "Name: streamingtv, dtype: object"
      ]
     },
     "execution_count": 241,
     "metadata": {},
     "output_type": "execute_result"
    }
   ],
   "source": [
    "df.streamingtv.sample(4)"
   ]
  },
  {
   "cell_type": "code",
   "execution_count": 242,
   "id": "fc2d626e-5c97-403d-bbb5-49f0646a87f7",
   "metadata": {},
   "outputs": [
    {
     "data": {
      "text/plain": [
       "(streamingtv\n",
       " No                     2810\n",
       " Yes                    2707\n",
       " No internet service    1526\n",
       " Name: count, dtype: int64,\n",
       " <Axes: xlabel='streamingtv', ylabel='percent'>)"
      ]
     },
     "execution_count": 242,
     "metadata": {},
     "output_type": "execute_result"
    },
    {
     "data": {
      "image/png": "[encoded data removed]",
      "text/plain": [
       "<Figure size 640x480 with 1 Axes>"
      ]
     },
     "metadata": {},
     "output_type": "display_data"
    }
   ],
   "source": [
    "univariate_analysis(df, 'streamingtv')"
   ]
  },
  {
   "cell_type": "code",
   "execution_count": 243,
   "id": "491456df-71de-475e-91d2-02f1a0ad1009",
   "metadata": {},
   "outputs": [
    {
     "data": {
      "text/plain": [
       "<Axes: xlabel='streamingtv', ylabel='count'>"
      ]
     },
     "execution_count": 243,
     "metadata": {},
     "output_type": "execute_result"
    },
    {
     "data": {
      "image/png": "[encoded data removed]",
      "text/plain": [
       "<Figure size 640x480 with 1 Axes>"
      ]
     },
     "metadata": {},
     "output_type": "display_data"
    }
   ],
   "source": [
    "sns.countplot(data = df, x = 'streamingtv', hue = 'churn')"
   ]
  },
  {
   "cell_type": "markdown",
   "id": "cec7bef6-51d1-4852-a9a6-e2b2c6d532df",
   "metadata": {},
   "source": [
    "* There is no proper distinction between yes and no but people with no service are not leaving very often"
   ]
  },
  {
   "cell_type": "markdown",
   "id": "0e4d6155-38a9-4eec-b216-76902326c457",
   "metadata": {},
   "source": [
    "# Streaming movies"
   ]
  },
  {
   "cell_type": "code",
   "execution_count": 247,
   "id": "38dd5626-add4-4da0-b7b0-1d9e6160dbe5",
   "metadata": {},
   "outputs": [
    {
     "data": {
      "text/plain": [
       "3033                    Yes\n",
       "5054                     No\n",
       "2808                    Yes\n",
       "6157    No internet service\n",
       "Name: streamingmovies, dtype: object"
      ]
     },
     "execution_count": 247,
     "metadata": {},
     "output_type": "execute_result"
    }
   ],
   "source": [
    "df.streamingmovies.sample(4)"
   ]
  },
  {
   "cell_type": "code",
   "execution_count": 248,
   "id": "1c06dc6a-1a7d-4c36-8176-36b61e7ad44f",
   "metadata": {},
   "outputs": [
    {
     "data": {
      "text/plain": [
       "(streamingmovies\n",
       " No                     2785\n",
       " Yes                    2732\n",
       " No internet service    1526\n",
       " Name: count, dtype: int64,\n",
       " <Axes: xlabel='streamingmovies', ylabel='percent'>)"
      ]
     },
     "execution_count": 248,
     "metadata": {},
     "output_type": "execute_result"
    },
    {
     "data": {
      "image/png": "[encoded data removed]",
      "text/plain": [
       "<Figure size 640x480 with 1 Axes>"
      ]
     },
     "metadata": {},
     "output_type": "display_data"
    }
   ],
   "source": [
    "univariate_analysis(df, 'streamingmovies')"
   ]
  },
  {
   "cell_type": "code",
   "execution_count": 249,
   "id": "915b9351-9c5e-4137-ba63-52b7fa9e26d0",
   "metadata": {},
   "outputs": [
    {
     "data": {
      "text/plain": [
       "<Axes: xlabel='streamingmovies', ylabel='count'>"
      ]
     },
     "execution_count": 249,
     "metadata": {},
     "output_type": "execute_result"
    },
    {
     "data": {
      "image/png": "[encoded data removed]",
      "text/plain": [
       "<Figure size 640x480 with 1 Axes>"
      ]
     },
     "metadata": {},
     "output_type": "display_data"
    }
   ],
   "source": [
    "sns.countplot(data = df, x = 'streamingmovies', hue = 'churn')"
   ]
  },
  {
   "cell_type": "markdown",
   "id": "e28fe95c-86a4-4289-b116-24be70e286b0",
   "metadata": {},
   "source": [
    "* There is no proper distinction between yes and no but people with no service are not leaving very often"
   ]
  },
  {
   "cell_type": "markdown",
   "id": "aa6a3865-f307-4cbc-9253-7c3ab41189fa",
   "metadata": {},
   "source": [
    "# Contract"
   ]
  },
  {
   "cell_type": "code",
   "execution_count": 254,
   "id": "65802d4f-5261-4939-8915-8bb0418b574a",
   "metadata": {},
   "outputs": [
    {
     "data": {
      "text/plain": [
       "6128    Month-to-month\n",
       "5223          Two year\n",
       "1498    Month-to-month\n",
       "609     Month-to-month\n",
       "Name: contract, dtype: object"
      ]
     },
     "execution_count": 254,
     "metadata": {},
     "output_type": "execute_result"
    }
   ],
   "source": [
    "df.contract.sample(4)"
   ]
  },
  {
   "cell_type": "code",
   "execution_count": 255,
   "id": "dde8b62d-b740-472f-817f-ac477a90f169",
   "metadata": {},
   "outputs": [
    {
     "data": {
      "text/plain": [
       "(contract\n",
       " Month-to-month    3875\n",
       " Two year          1695\n",
       " One year          1473\n",
       " Name: count, dtype: int64,\n",
       " <Axes: xlabel='contract', ylabel='percent'>)"
      ]
     },
     "execution_count": 255,
     "metadata": {},
     "output_type": "execute_result"
    },
    {
     "data": {
      "image/png": "[encoded data removed]",
      "text/plain": [
       "<Figure size 640x480 with 1 Axes>"
      ]
     },
     "metadata": {},
     "output_type": "display_data"
    }
   ],
   "source": [
    "univariate_analysis(df, 'contract')"
   ]
  },
  {
   "cell_type": "code",
   "execution_count": 256,
   "id": "eea86490-289c-412f-af2c-6baa74b61ecd",
   "metadata": {},
   "outputs": [
    {
     "data": {
      "text/plain": [
       "<Axes: xlabel='contract', ylabel='count'>"
      ]
     },
     "execution_count": 256,
     "metadata": {},
     "output_type": "execute_result"
    },
    {
     "data": {
      "image/png": "[encoded data removed]",
      "text/plain": [
       "<Figure size 640x480 with 1 Axes>"
      ]
     },
     "metadata": {},
     "output_type": "display_data"
    }
   ],
   "source": [
    "sns.countplot(data = df, x = 'contract', hue = 'churn')"
   ]
  },
  {
   "cell_type": "markdown",
   "id": "a2677251-5268-46b4-b9f1-4cc8aadb5d4f",
   "metadata": {},
   "source": [
    "* As we can see people on monthly contract are high in number and also they are someone who could have high chance of leaving "
   ]
  },
  {
   "cell_type": "markdown",
   "id": "0578c5e3-2a43-481e-a75e-9537ea37603d",
   "metadata": {},
   "source": [
    "# Paperless billing"
   ]
  },
  {
   "cell_type": "code",
   "execution_count": 259,
   "id": "7e7afb2c-9889-4c01-b509-1a056c34a951",
   "metadata": {},
   "outputs": [
    {
     "data": {
      "text/plain": [
       "4722    Yes\n",
       "423      No\n",
       "1811    Yes\n",
       "1706    Yes\n",
       "Name: paperlessbilling, dtype: object"
      ]
     },
     "execution_count": 259,
     "metadata": {},
     "output_type": "execute_result"
    }
   ],
   "source": [
    "df.paperlessbilling.sample(4)"
   ]
  },
  {
   "cell_type": "code",
   "execution_count": 261,
   "id": "ad412c6f-17aa-46ff-a330-29187ca5275b",
   "metadata": {},
   "outputs": [
    {
     "data": {
      "text/plain": [
       "(paperlessbilling\n",
       " Yes    4171\n",
       " No     2872\n",
       " Name: count, dtype: int64,\n",
       " <Axes: xlabel='paperlessbilling', ylabel='percent'>)"
      ]
     },
     "execution_count": 261,
     "metadata": {},
     "output_type": "execute_result"
    },
    {
     "data": {
      "image/png": "[encoded data removed]",
      "text/plain": [
       "<Figure size 640x480 with 1 Axes>"
      ]
     },
     "metadata": {},
     "output_type": "display_data"
    }
   ],
   "source": [
    "univariate_analysis(df, 'paperlessbilling')"
   ]
  },
  {
   "cell_type": "code",
   "execution_count": 263,
   "id": "b0716d5a-28db-4ebd-af66-9ae7777c5957",
   "metadata": {},
   "outputs": [
    {
     "data": {
      "text/plain": [
       "<Axes: xlabel='paperlessbilling', ylabel='percent'>"
      ]
     },
     "execution_count": 263,
     "metadata": {},
     "output_type": "execute_result"
    },
    {
     "data": {
      "image/png": "[encoded data removed]",
      "text/plain": [
       "<Figure size 640x480 with 1 Axes>"
      ]
     },
     "metadata": {},
     "output_type": "display_data"
    }
   ],
   "source": [
    "sns.countplot(data = df, x = 'paperlessbilling', hue = 'churn', stat = 'percent')"
   ]
  },
  {
   "cell_type": "code",
   "execution_count": 264,
   "id": "e1bd33e1-4314-4461-9d82-d12f4a645b92",
   "metadata": {},
   "outputs": [
    {
     "data": {
      "text/plain": [
       "paperlessbilling  churn\n",
       "Yes               No       0.393440\n",
       "No                No       0.341190\n",
       "Yes               Yes      0.198779\n",
       "No                Yes      0.066591\n",
       "Name: proportion, dtype: float64"
      ]
     },
     "execution_count": 264,
     "metadata": {},
     "output_type": "execute_result"
    }
   ],
   "source": [
    "df[['paperlessbilling', 'churn']].value_counts(normalize = True)"
   ]
  },
  {
   "cell_type": "code",
   "execution_count": 280,
   "id": "b5ce5544-cf68-4bc2-8132-5993d4c4027b",
   "metadata": {},
   "outputs": [
    {
     "data": {
      "text/plain": [
       "0.1633008356545961"
      ]
     },
     "execution_count": 280,
     "metadata": {},
     "output_type": "execute_result"
    }
   ],
   "source": [
    "df[(df['paperlessbilling'] == 'No') & (df['churn'] == 'Yes')].shape[0] / df[df['paperlessbilling'] == 'No'].shape[0]"
   ]
  },
  {
   "cell_type": "code",
   "execution_count": 279,
   "id": "1a78f025-82b8-4710-9427-6381e4fcfcb9",
   "metadata": {},
   "outputs": [
    {
     "data": {
      "text/plain": [
       "0.11244305921841286"
      ]
     },
     "execution_count": 279,
     "metadata": {},
     "output_type": "execute_result"
    }
   ],
   "source": [
    "df[(df['paperlessbilling'] == 'No') & (df['churn'] == 'Yes')].shape[0] / df[df['paperlessbilling'] == 'Yes'].shape[0]"
   ]
  },
  {
   "cell_type": "markdown",
   "id": "e0ec9b35-7cdb-4cda-9995-9e635659f490",
   "metadata": {},
   "source": [
    "* People with paperlessbilling are more and the ration of leaving and not leaving in both is somewhat same."
   ]
  },
  {
   "cell_type": "markdown",
   "id": "7db596cb-3366-43b0-b1ca-658f52dc84b0",
   "metadata": {},
   "source": [
    "# Payment method"
   ]
  },
  {
   "cell_type": "code",
   "execution_count": 283,
   "id": "f195aed1-67a8-48c3-8ba9-5c7131e03019",
   "metadata": {},
   "outputs": [
    {
     "data": {
      "text/plain": [
       "1129      Credit card (automatic)\n",
       "904       Credit card (automatic)\n",
       "4465             Electronic check\n",
       "3512    Bank transfer (automatic)\n",
       "Name: paymentmethod, dtype: object"
      ]
     },
     "execution_count": 283,
     "metadata": {},
     "output_type": "execute_result"
    }
   ],
   "source": [
    "df.paymentmethod.sample(4)"
   ]
  },
  {
   "cell_type": "code",
   "execution_count": 284,
   "id": "c50c2c66-b9de-4db2-84a0-4aea7ea56004",
   "metadata": {},
   "outputs": [
    {
     "data": {
      "text/plain": [
       "(paymentmethod\n",
       " Electronic check             2365\n",
       " Mailed check                 1612\n",
       " Bank transfer (automatic)    1544\n",
       " Credit card (automatic)      1522\n",
       " Name: count, dtype: int64,\n",
       " <Axes: xlabel='paymentmethod', ylabel='percent'>)"
      ]
     },
     "execution_count": 284,
     "metadata": {},
     "output_type": "execute_result"
    },
    {
     "data": {
      "image/png": "[encoded data removed]",
      "text/plain": [
       "<Figure size 640x480 with 1 Axes>"
      ]
     },
     "metadata": {},
     "output_type": "display_data"
    }
   ],
   "source": [
    "univariate_analysis(df, 'paymentmethod')"
   ]
  },
  {
   "cell_type": "code",
   "execution_count": 289,
   "id": "3a4ae51d-525f-4ecb-9636-1313595ec72f",
   "metadata": {},
   "outputs": [
    {
     "data": {
      "image/png": "[encoded data removed]",
      "text/plain": [
       "<Figure size 640x480 with 1 Axes>"
      ]
     },
     "metadata": {},
     "output_type": "display_data"
    }
   ],
   "source": [
    "#rotate x-axis labels\n",
    "\n",
    "my_plot = sns.countplot(data = df, x = 'paymentmethod', hue = 'churn', stat = 'percent')\n",
    "my_plot.set_xticklabels(my_plot.get_xticklabels(), rotation=45)\n",
    "plt.show()"
   ]
  },
  {
   "cell_type": "markdown",
   "id": "0a271cb1-ff27-4592-ae2c-bc5df316a3bf",
   "metadata": {},
   "source": [
    "* Usually not leaving but if people leave they are mostly from Electronic check category"
   ]
  },
  {
   "cell_type": "markdown",
   "id": "7f22edf1-e7a9-46d8-acea-fc24ebff44c0",
   "metadata": {},
   "source": [
    "# Monthly charges"
   ]
  },
  {
   "cell_type": "code",
   "execution_count": 320,
   "id": "b2938128-08b5-486c-9f30-a376e3addb13",
   "metadata": {},
   "outputs": [
    {
     "data": {
      "text/plain": [
       "dtype('float64')"
      ]
     },
     "execution_count": 320,
     "metadata": {},
     "output_type": "execute_result"
    }
   ],
   "source": [
    "df.monthlycharges.dtypes"
   ]
  },
  {
   "cell_type": "code",
   "execution_count": 292,
   "id": "a89aa7cd-300e-4a23-aeef-98069f7d0aeb",
   "metadata": {},
   "outputs": [
    {
     "data": {
      "text/plain": [
       "5008    19.65\n",
       "4382    48.75\n",
       "1942    19.20\n",
       "2831    98.10\n",
       "Name: monthlycharges, dtype: float64"
      ]
     },
     "execution_count": 292,
     "metadata": {},
     "output_type": "execute_result"
    }
   ],
   "source": [
    "df.monthlycharges.sample(4)"
   ]
  },
  {
   "cell_type": "code",
   "execution_count": 293,
   "id": "7bb1fd9a-ffb7-454c-a409-2bf301ed58b3",
   "metadata": {},
   "outputs": [
    {
     "data": {
      "text/plain": [
       "<Axes: xlabel='monthlycharges'>"
      ]
     },
     "execution_count": 293,
     "metadata": {},
     "output_type": "execute_result"
    },
    {
     "data": {
      "image/png": "[encoded data removed]",
      "text/plain": [
       "<Figure size 640x480 with 1 Axes>"
      ]
     },
     "metadata": {},
     "output_type": "display_data"
    }
   ],
   "source": [
    "sns.boxplot(data = df, x = 'monthlycharges')"
   ]
  },
  {
   "cell_type": "code",
   "execution_count": 294,
   "id": "b84557fe-b163-48ab-a0ca-3488b10a17a8",
   "metadata": {},
   "outputs": [
    {
     "data": {
      "text/plain": [
       "0.10    20.05\n",
       "0.25    35.50\n",
       "0.50    70.35\n",
       "0.75    89.85\n",
       "Name: monthlycharges, dtype: float64"
      ]
     },
     "execution_count": 294,
     "metadata": {},
     "output_type": "execute_result"
    }
   ],
   "source": [
    "df.monthlycharges.quantile([0.1, 0.25, 0.5, 0.75])"
   ]
  },
  {
   "cell_type": "code",
   "execution_count": 303,
   "id": "273384a6-8bcc-45ac-815d-02276bd86c92",
   "metadata": {},
   "outputs": [
    {
     "data": {
      "text/html": [
       "<div>\n",
       "<style scoped>\n",
       "    .dataframe tbody tr th:only-of-type {\n",
       "        vertical-align: middle;\n",
       "    }\n",
       "\n",
       "    .dataframe tbody tr th {\n",
       "        vertical-align: top;\n",
       "    }\n",
       "\n",
       "    .dataframe thead th {\n",
       "        text-align: right;\n",
       "    }\n",
       "</style>\n",
       "<table border=\"1\" class=\"dataframe\">\n",
       "  <thead>\n",
       "    <tr style=\"text-align: right;\">\n",
       "      <th></th>\n",
       "      <th>phoneservice</th>\n",
       "      <th>multiplelines</th>\n",
       "      <th>internetservice</th>\n",
       "      <th>onlinesecurity</th>\n",
       "      <th>onlinebackup</th>\n",
       "      <th>deviceprotection</th>\n",
       "      <th>techsupport</th>\n",
       "      <th>streamingtv</th>\n",
       "      <th>streamingmovies</th>\n",
       "      <th>contract</th>\n",
       "      <th>paperlessbilling</th>\n",
       "      <th>paymentmethod</th>\n",
       "      <th>monthlycharges</th>\n",
       "      <th>totalcharges</th>\n",
       "      <th>churn</th>\n",
       "    </tr>\n",
       "  </thead>\n",
       "  <tbody>\n",
       "    <tr>\n",
       "      <th>5</th>\n",
       "      <td>Yes</td>\n",
       "      <td>Yes</td>\n",
       "      <td>Fiber optic</td>\n",
       "      <td>No</td>\n",
       "      <td>No</td>\n",
       "      <td>Yes</td>\n",
       "      <td>No</td>\n",
       "      <td>Yes</td>\n",
       "      <td>Yes</td>\n",
       "      <td>Month-to-month</td>\n",
       "      <td>Yes</td>\n",
       "      <td>Electronic check</td>\n",
       "      <td>99.65</td>\n",
       "      <td>820.5</td>\n",
       "      <td>Yes</td>\n",
       "    </tr>\n",
       "    <tr>\n",
       "      <th>8</th>\n",
       "      <td>Yes</td>\n",
       "      <td>Yes</td>\n",
       "      <td>Fiber optic</td>\n",
       "      <td>No</td>\n",
       "      <td>No</td>\n",
       "      <td>Yes</td>\n",
       "      <td>Yes</td>\n",
       "      <td>Yes</td>\n",
       "      <td>Yes</td>\n",
       "      <td>Month-to-month</td>\n",
       "      <td>Yes</td>\n",
       "      <td>Electronic check</td>\n",
       "      <td>104.80</td>\n",
       "      <td>3046.05</td>\n",
       "      <td>Yes</td>\n",
       "    </tr>\n",
       "    <tr>\n",
       "      <th>12</th>\n",
       "      <td>Yes</td>\n",
       "      <td>Yes</td>\n",
       "      <td>Fiber optic</td>\n",
       "      <td>No</td>\n",
       "      <td>No</td>\n",
       "      <td>Yes</td>\n",
       "      <td>No</td>\n",
       "      <td>Yes</td>\n",
       "      <td>Yes</td>\n",
       "      <td>One year</td>\n",
       "      <td>No</td>\n",
       "      <td>Credit card (automatic)</td>\n",
       "      <td>100.35</td>\n",
       "      <td>5681.1</td>\n",
       "      <td>No</td>\n",
       "    </tr>\n",
       "    <tr>\n",
       "      <th>13</th>\n",
       "      <td>Yes</td>\n",
       "      <td>Yes</td>\n",
       "      <td>Fiber optic</td>\n",
       "      <td>No</td>\n",
       "      <td>Yes</td>\n",
       "      <td>Yes</td>\n",
       "      <td>No</td>\n",
       "      <td>Yes</td>\n",
       "      <td>Yes</td>\n",
       "      <td>Month-to-month</td>\n",
       "      <td>Yes</td>\n",
       "      <td>Bank transfer (automatic)</td>\n",
       "      <td>103.70</td>\n",
       "      <td>5036.3</td>\n",
       "      <td>Yes</td>\n",
       "    </tr>\n",
       "    <tr>\n",
       "      <th>14</th>\n",
       "      <td>Yes</td>\n",
       "      <td>No</td>\n",
       "      <td>Fiber optic</td>\n",
       "      <td>Yes</td>\n",
       "      <td>No</td>\n",
       "      <td>Yes</td>\n",
       "      <td>Yes</td>\n",
       "      <td>Yes</td>\n",
       "      <td>Yes</td>\n",
       "      <td>Month-to-month</td>\n",
       "      <td>Yes</td>\n",
       "      <td>Electronic check</td>\n",
       "      <td>105.50</td>\n",
       "      <td>2686.05</td>\n",
       "      <td>No</td>\n",
       "    </tr>\n",
       "  </tbody>\n",
       "</table>\n",
       "</div>"
      ],
      "text/plain": [
       "   phoneservice multiplelines internetservice onlinesecurity onlinebackup  \\\n",
       "5           Yes           Yes     Fiber optic             No           No   \n",
       "8           Yes           Yes     Fiber optic             No           No   \n",
       "12          Yes           Yes     Fiber optic             No           No   \n",
       "13          Yes           Yes     Fiber optic             No          Yes   \n",
       "14          Yes            No     Fiber optic            Yes           No   \n",
       "\n",
       "   deviceprotection techsupport streamingtv streamingmovies        contract  \\\n",
       "5               Yes          No         Yes             Yes  Month-to-month   \n",
       "8               Yes         Yes         Yes             Yes  Month-to-month   \n",
       "12              Yes          No         Yes             Yes        One year   \n",
       "13              Yes          No         Yes             Yes  Month-to-month   \n",
       "14              Yes         Yes         Yes             Yes  Month-to-month   \n",
       "\n",
       "   paperlessbilling              paymentmethod  monthlycharges totalcharges  \\\n",
       "5               Yes           Electronic check           99.65        820.5   \n",
       "8               Yes           Electronic check          104.80      3046.05   \n",
       "12               No    Credit card (automatic)          100.35       5681.1   \n",
       "13              Yes  Bank transfer (automatic)          103.70       5036.3   \n",
       "14              Yes           Electronic check          105.50      2686.05   \n",
       "\n",
       "   churn  \n",
       "5    Yes  \n",
       "8    Yes  \n",
       "12    No  \n",
       "13   Yes  \n",
       "14    No  "
      ]
     },
     "execution_count": 303,
     "metadata": {},
     "output_type": "execute_result"
    }
   ],
   "source": [
    "df[df['monthlycharges'] > 89.85].iloc[:5, 6:]"
   ]
  },
  {
   "cell_type": "code",
   "execution_count": 308,
   "id": "5a1278fb-62e1-4fdf-b29d-2fd436bf542d",
   "metadata": {},
   "outputs": [
    {
     "data": {
      "text/html": [
       "<div>\n",
       "<style scoped>\n",
       "    .dataframe tbody tr th:only-of-type {\n",
       "        vertical-align: middle;\n",
       "    }\n",
       "\n",
       "    .dataframe tbody tr th {\n",
       "        vertical-align: top;\n",
       "    }\n",
       "\n",
       "    .dataframe thead th {\n",
       "        text-align: right;\n",
       "    }\n",
       "</style>\n",
       "<table border=\"1\" class=\"dataframe\">\n",
       "  <thead>\n",
       "    <tr style=\"text-align: right;\">\n",
       "      <th></th>\n",
       "      <th>gender</th>\n",
       "      <th>seniorcitizen</th>\n",
       "      <th>partner</th>\n",
       "      <th>dependents</th>\n",
       "      <th>tenure</th>\n",
       "    </tr>\n",
       "  </thead>\n",
       "  <tbody>\n",
       "    <tr>\n",
       "      <th>5</th>\n",
       "      <td>Female</td>\n",
       "      <td>0</td>\n",
       "      <td>No</td>\n",
       "      <td>No</td>\n",
       "      <td>8</td>\n",
       "    </tr>\n",
       "    <tr>\n",
       "      <th>8</th>\n",
       "      <td>Female</td>\n",
       "      <td>0</td>\n",
       "      <td>Yes</td>\n",
       "      <td>No</td>\n",
       "      <td>28</td>\n",
       "    </tr>\n",
       "    <tr>\n",
       "      <th>12</th>\n",
       "      <td>Male</td>\n",
       "      <td>0</td>\n",
       "      <td>Yes</td>\n",
       "      <td>No</td>\n",
       "      <td>58</td>\n",
       "    </tr>\n",
       "    <tr>\n",
       "      <th>13</th>\n",
       "      <td>Male</td>\n",
       "      <td>0</td>\n",
       "      <td>No</td>\n",
       "      <td>No</td>\n",
       "      <td>49</td>\n",
       "    </tr>\n",
       "    <tr>\n",
       "      <th>14</th>\n",
       "      <td>Male</td>\n",
       "      <td>0</td>\n",
       "      <td>No</td>\n",
       "      <td>No</td>\n",
       "      <td>25</td>\n",
       "    </tr>\n",
       "  </tbody>\n",
       "</table>\n",
       "</div>"
      ],
      "text/plain": [
       "    gender  seniorcitizen partner dependents  tenure\n",
       "5   Female              0      No         No       8\n",
       "8   Female              0     Yes         No      28\n",
       "12    Male              0     Yes         No      58\n",
       "13    Male              0      No         No      49\n",
       "14    Male              0      No         No      25"
      ]
     },
     "execution_count": 308,
     "metadata": {},
     "output_type": "execute_result"
    }
   ],
   "source": [
    "df[df['monthlycharges'] > 89.85].iloc[:5, 1:6]"
   ]
  },
  {
   "cell_type": "markdown",
   "id": "cb025765-5585-4121-bbbe-fc68bf6a302e",
   "metadata": {},
   "source": [
    "# Total Charges"
   ]
  },
  {
   "cell_type": "code",
   "execution_count": 4,
   "id": "ca441f24-f4e3-435e-9928-bd4728339c14",
   "metadata": {},
   "outputs": [
    {
     "data": {
      "text/plain": [
       "dtype('O')"
      ]
     },
     "execution_count": 4,
     "metadata": {},
     "output_type": "execute_result"
    }
   ],
   "source": [
    "df.totalcharges.dtypes"
   ]
  },
  {
   "cell_type": "code",
   "execution_count": 5,
   "id": "b427956b-2fd8-4a58-babb-0649cb60aa94",
   "metadata": {},
   "outputs": [],
   "source": [
    "df['totalcharges'] = pd.to_numeric(df['totalcharges'], errors = 'coerce')"
   ]
  },
  {
   "cell_type": "code",
   "execution_count": 6,
   "id": "bc148831-1960-41b6-91c1-9794b54f2338",
   "metadata": {},
   "outputs": [
    {
     "data": {
      "text/plain": [
       "4038    1093.0\n",
       "4776     351.5\n",
       "1099     259.4\n",
       "6244    5295.7\n",
       "Name: totalcharges, dtype: float64"
      ]
     },
     "execution_count": 6,
     "metadata": {},
     "output_type": "execute_result"
    }
   ],
   "source": [
    "df.totalcharges.sample(4)"
   ]
  },
  {
   "cell_type": "code",
   "execution_count": 7,
   "id": "d4e838f1-3f4e-4d34-9fd5-bee641e75518",
   "metadata": {},
   "outputs": [
    {
     "data": {
      "text/plain": [
       "dtype('float64')"
      ]
     },
     "execution_count": 7,
     "metadata": {},
     "output_type": "execute_result"
    }
   ],
   "source": [
    "df.totalcharges.dtypes"
   ]
  },
  {
   "cell_type": "code",
   "execution_count": 9,
   "id": "06dbb9fd-5d8d-4321-8e0f-d4956a71550c",
   "metadata": {},
   "outputs": [
    {
     "data": {
      "text/plain": [
       "<Axes: xlabel='totalcharges'>"
      ]
     },
     "execution_count": 9,
     "metadata": {},
     "output_type": "execute_result"
    },
    {
     "data": {
      "image/png": "[encoded data removed]",
      "text/plain": [
       "<Figure size 640x480 with 1 Axes>"
      ]
     },
     "metadata": {},
     "output_type": "display_data"
    }
   ],
   "source": [
    "import seaborn as sns\n",
    "sns.boxplot(data = df, x = 'totalcharges')"
   ]
  },
  {
   "cell_type": "code",
   "execution_count": 10,
   "id": "19a70c26-5c3f-47c6-8894-2e1c7197a534",
   "metadata": {},
   "outputs": [
    {
     "data": {
      "text/plain": [
       "(1450, 21)"
      ]
     },
     "execution_count": 10,
     "metadata": {},
     "output_type": "execute_result"
    }
   ],
   "source": [
    "df[(df['totalcharges'] > 3900) & (df['churn'] == 'No')].shape"
   ]
  },
  {
   "cell_type": "code",
   "execution_count": 11,
   "id": "ce5fec9e-93c9-42dc-b842-2c603a9559a0",
   "metadata": {},
   "outputs": [
    {
     "data": {
      "text/plain": [
       "(251, 21)"
      ]
     },
     "execution_count": 11,
     "metadata": {},
     "output_type": "execute_result"
    }
   ],
   "source": [
    "df[(df['totalcharges'] > 3900) & (df['churn'] == 'Yes')].shape"
   ]
  },
  {
   "cell_type": "code",
   "execution_count": 12,
   "id": "e708531a-d50b-451f-b6b3-7e3c35bc2a7d",
   "metadata": {},
   "outputs": [
    {
     "data": {
      "text/plain": [
       "0.1475602586713698"
      ]
     },
     "execution_count": 12,
     "metadata": {},
     "output_type": "execute_result"
    }
   ],
   "source": [
    "251 / (1450 + 251)"
   ]
  },
  {
   "cell_type": "code",
   "execution_count": 13,
   "id": "d6648eff-0576-4eae-bd79-7a937301a00b",
   "metadata": {},
   "outputs": [
    {
     "data": {
      "text/plain": [
       "11"
      ]
     },
     "execution_count": 13,
     "metadata": {},
     "output_type": "execute_result"
    }
   ],
   "source": [
    "df['totalcharges'].isna().sum()"
   ]
  },
  {
   "cell_type": "code",
   "execution_count": 18,
   "id": "8025f176-5e00-4f07-97ef-a2f2b0b0ccb6",
   "metadata": {},
   "outputs": [
    {
     "data": {
      "text/html": [
       "<div>\n",
       "<style scoped>\n",
       "    .dataframe tbody tr th:only-of-type {\n",
       "        vertical-align: middle;\n",
       "    }\n",
       "\n",
       "    .dataframe tbody tr th {\n",
       "        vertical-align: top;\n",
       "    }\n",
       "\n",
       "    .dataframe thead th {\n",
       "        text-align: right;\n",
       "    }\n",
       "</style>\n",
       "<table border=\"1\" class=\"dataframe\">\n",
       "  <thead>\n",
       "    <tr style=\"text-align: right;\">\n",
       "      <th></th>\n",
       "      <th>customerid</th>\n",
       "      <th>gender</th>\n",
       "      <th>seniorcitizen</th>\n",
       "      <th>partner</th>\n",
       "      <th>dependents</th>\n",
       "      <th>tenure</th>\n",
       "      <th>phoneservice</th>\n",
       "      <th>multiplelines</th>\n",
       "      <th>internetservice</th>\n",
       "      <th>onlinesecurity</th>\n",
       "      <th>...</th>\n",
       "      <th>deviceprotection</th>\n",
       "      <th>techsupport</th>\n",
       "      <th>streamingtv</th>\n",
       "      <th>streamingmovies</th>\n",
       "      <th>contract</th>\n",
       "      <th>paperlessbilling</th>\n",
       "      <th>paymentmethod</th>\n",
       "      <th>monthlycharges</th>\n",
       "      <th>totalcharges</th>\n",
       "      <th>churn</th>\n",
       "    </tr>\n",
       "  </thead>\n",
       "  <tbody>\n",
       "    <tr>\n",
       "      <th>488</th>\n",
       "      <td>4472-LVYGI</td>\n",
       "      <td>Female</td>\n",
       "      <td>0</td>\n",
       "      <td>Yes</td>\n",
       "      <td>Yes</td>\n",
       "      <td>0</td>\n",
       "      <td>No</td>\n",
       "      <td>No phone service</td>\n",
       "      <td>DSL</td>\n",
       "      <td>Yes</td>\n",
       "      <td>...</td>\n",
       "      <td>Yes</td>\n",
       "      <td>Yes</td>\n",
       "      <td>Yes</td>\n",
       "      <td>No</td>\n",
       "      <td>Two year</td>\n",
       "      <td>Yes</td>\n",
       "      <td>Bank transfer (automatic)</td>\n",
       "      <td>52.55</td>\n",
       "      <td>NaN</td>\n",
       "      <td>No</td>\n",
       "    </tr>\n",
       "    <tr>\n",
       "      <th>753</th>\n",
       "      <td>3115-CZMZD</td>\n",
       "      <td>Male</td>\n",
       "      <td>0</td>\n",
       "      <td>No</td>\n",
       "      <td>Yes</td>\n",
       "      <td>0</td>\n",
       "      <td>Yes</td>\n",
       "      <td>No</td>\n",
       "      <td>No</td>\n",
       "      <td>No internet service</td>\n",
       "      <td>...</td>\n",
       "      <td>No internet service</td>\n",
       "      <td>No internet service</td>\n",
       "      <td>No internet service</td>\n",
       "      <td>No internet service</td>\n",
       "      <td>Two year</td>\n",
       "      <td>No</td>\n",
       "      <td>Mailed check</td>\n",
       "      <td>20.25</td>\n",
       "      <td>NaN</td>\n",
       "      <td>No</td>\n",
       "    </tr>\n",
       "    <tr>\n",
       "      <th>936</th>\n",
       "      <td>5709-LVOEQ</td>\n",
       "      <td>Female</td>\n",
       "      <td>0</td>\n",
       "      <td>Yes</td>\n",
       "      <td>Yes</td>\n",
       "      <td>0</td>\n",
       "      <td>Yes</td>\n",
       "      <td>No</td>\n",
       "      <td>DSL</td>\n",
       "      <td>Yes</td>\n",
       "      <td>...</td>\n",
       "      <td>Yes</td>\n",
       "      <td>No</td>\n",
       "      <td>Yes</td>\n",
       "      <td>Yes</td>\n",
       "      <td>Two year</td>\n",
       "      <td>No</td>\n",
       "      <td>Mailed check</td>\n",
       "      <td>80.85</td>\n",
       "      <td>NaN</td>\n",
       "      <td>No</td>\n",
       "    </tr>\n",
       "    <tr>\n",
       "      <th>1082</th>\n",
       "      <td>4367-NUYAO</td>\n",
       "      <td>Male</td>\n",
       "      <td>0</td>\n",
       "      <td>Yes</td>\n",
       "      <td>Yes</td>\n",
       "      <td>0</td>\n",
       "      <td>Yes</td>\n",
       "      <td>Yes</td>\n",
       "      <td>No</td>\n",
       "      <td>No internet service</td>\n",
       "      <td>...</td>\n",
       "      <td>No internet service</td>\n",
       "      <td>No internet service</td>\n",
       "      <td>No internet service</td>\n",
       "      <td>No internet service</td>\n",
       "      <td>Two year</td>\n",
       "      <td>No</td>\n",
       "      <td>Mailed check</td>\n",
       "      <td>25.75</td>\n",
       "      <td>NaN</td>\n",
       "      <td>No</td>\n",
       "    </tr>\n",
       "    <tr>\n",
       "      <th>1340</th>\n",
       "      <td>1371-DWPAZ</td>\n",
       "      <td>Female</td>\n",
       "      <td>0</td>\n",
       "      <td>Yes</td>\n",
       "      <td>Yes</td>\n",
       "      <td>0</td>\n",
       "      <td>No</td>\n",
       "      <td>No phone service</td>\n",
       "      <td>DSL</td>\n",
       "      <td>Yes</td>\n",
       "      <td>...</td>\n",
       "      <td>Yes</td>\n",
       "      <td>Yes</td>\n",
       "      <td>Yes</td>\n",
       "      <td>No</td>\n",
       "      <td>Two year</td>\n",
       "      <td>No</td>\n",
       "      <td>Credit card (automatic)</td>\n",
       "      <td>56.05</td>\n",
       "      <td>NaN</td>\n",
       "      <td>No</td>\n",
       "    </tr>\n",
       "    <tr>\n",
       "      <th>3331</th>\n",
       "      <td>7644-OMVMY</td>\n",
       "      <td>Male</td>\n",
       "      <td>0</td>\n",
       "      <td>Yes</td>\n",
       "      <td>Yes</td>\n",
       "      <td>0</td>\n",
       "      <td>Yes</td>\n",
       "      <td>No</td>\n",
       "      <td>No</td>\n",
       "      <td>No internet service</td>\n",
       "      <td>...</td>\n",
       "      <td>No internet service</td>\n",
       "      <td>No internet service</td>\n",
       "      <td>No internet service</td>\n",
       "      <td>No internet service</td>\n",
       "      <td>Two year</td>\n",
       "      <td>No</td>\n",
       "      <td>Mailed check</td>\n",
       "      <td>19.85</td>\n",
       "      <td>NaN</td>\n",
       "      <td>No</td>\n",
       "    </tr>\n",
       "    <tr>\n",
       "      <th>3826</th>\n",
       "      <td>3213-VVOLG</td>\n",
       "      <td>Male</td>\n",
       "      <td>0</td>\n",
       "      <td>Yes</td>\n",
       "      <td>Yes</td>\n",
       "      <td>0</td>\n",
       "      <td>Yes</td>\n",
       "      <td>Yes</td>\n",
       "      <td>No</td>\n",
       "      <td>No internet service</td>\n",
       "      <td>...</td>\n",
       "      <td>No internet service</td>\n",
       "      <td>No internet service</td>\n",
       "      <td>No internet service</td>\n",
       "      <td>No internet service</td>\n",
       "      <td>Two year</td>\n",
       "      <td>No</td>\n",
       "      <td>Mailed check</td>\n",
       "      <td>25.35</td>\n",
       "      <td>NaN</td>\n",
       "      <td>No</td>\n",
       "    </tr>\n",
       "    <tr>\n",
       "      <th>4380</th>\n",
       "      <td>2520-SGTTA</td>\n",
       "      <td>Female</td>\n",
       "      <td>0</td>\n",
       "      <td>Yes</td>\n",
       "      <td>Yes</td>\n",
       "      <td>0</td>\n",
       "      <td>Yes</td>\n",
       "      <td>No</td>\n",
       "      <td>No</td>\n",
       "      <td>No internet service</td>\n",
       "      <td>...</td>\n",
       "      <td>No internet service</td>\n",
       "      <td>No internet service</td>\n",
       "      <td>No internet service</td>\n",
       "      <td>No internet service</td>\n",
       "      <td>Two year</td>\n",
       "      <td>No</td>\n",
       "      <td>Mailed check</td>\n",
       "      <td>20.00</td>\n",
       "      <td>NaN</td>\n",
       "      <td>No</td>\n",
       "    </tr>\n",
       "    <tr>\n",
       "      <th>5218</th>\n",
       "      <td>2923-ARZLG</td>\n",
       "      <td>Male</td>\n",
       "      <td>0</td>\n",
       "      <td>Yes</td>\n",
       "      <td>Yes</td>\n",
       "      <td>0</td>\n",
       "      <td>Yes</td>\n",
       "      <td>No</td>\n",
       "      <td>No</td>\n",
       "      <td>No internet service</td>\n",
       "      <td>...</td>\n",
       "      <td>No internet service</td>\n",
       "      <td>No internet service</td>\n",
       "      <td>No internet service</td>\n",
       "      <td>No internet service</td>\n",
       "      <td>One year</td>\n",
       "      <td>Yes</td>\n",
       "      <td>Mailed check</td>\n",
       "      <td>19.70</td>\n",
       "      <td>NaN</td>\n",
       "      <td>No</td>\n",
       "    </tr>\n",
       "    <tr>\n",
       "      <th>6670</th>\n",
       "      <td>4075-WKNIU</td>\n",
       "      <td>Female</td>\n",
       "      <td>0</td>\n",
       "      <td>Yes</td>\n",
       "      <td>Yes</td>\n",
       "      <td>0</td>\n",
       "      <td>Yes</td>\n",
       "      <td>Yes</td>\n",
       "      <td>DSL</td>\n",
       "      <td>No</td>\n",
       "      <td>...</td>\n",
       "      <td>Yes</td>\n",
       "      <td>Yes</td>\n",
       "      <td>Yes</td>\n",
       "      <td>No</td>\n",
       "      <td>Two year</td>\n",
       "      <td>No</td>\n",
       "      <td>Mailed check</td>\n",
       "      <td>73.35</td>\n",
       "      <td>NaN</td>\n",
       "      <td>No</td>\n",
       "    </tr>\n",
       "    <tr>\n",
       "      <th>6754</th>\n",
       "      <td>2775-SEFEE</td>\n",
       "      <td>Male</td>\n",
       "      <td>0</td>\n",
       "      <td>No</td>\n",
       "      <td>Yes</td>\n",
       "      <td>0</td>\n",
       "      <td>Yes</td>\n",
       "      <td>Yes</td>\n",
       "      <td>DSL</td>\n",
       "      <td>Yes</td>\n",
       "      <td>...</td>\n",
       "      <td>No</td>\n",
       "      <td>Yes</td>\n",
       "      <td>No</td>\n",
       "      <td>No</td>\n",
       "      <td>Two year</td>\n",
       "      <td>Yes</td>\n",
       "      <td>Bank transfer (automatic)</td>\n",
       "      <td>61.90</td>\n",
       "      <td>NaN</td>\n",
       "      <td>No</td>\n",
       "    </tr>\n",
       "  </tbody>\n",
       "</table>\n",
       "<p>11 rows × 21 columns</p>\n",
       "</div>"
      ],
      "text/plain": [
       "      customerid  gender  seniorcitizen partner dependents  tenure  \\\n",
       "488   4472-LVYGI  Female              0     Yes        Yes       0   \n",
       "753   3115-CZMZD    Male              0      No        Yes       0   \n",
       "936   5709-LVOEQ  Female              0     Yes        Yes       0   \n",
       "1082  4367-NUYAO    Male              0     Yes        Yes       0   \n",
       "1340  1371-DWPAZ  Female              0     Yes        Yes       0   \n",
       "3331  7644-OMVMY    Male              0     Yes        Yes       0   \n",
       "3826  3213-VVOLG    Male              0     Yes        Yes       0   \n",
       "4380  2520-SGTTA  Female              0     Yes        Yes       0   \n",
       "5218  2923-ARZLG    Male              0     Yes        Yes       0   \n",
       "6670  4075-WKNIU  Female              0     Yes        Yes       0   \n",
       "6754  2775-SEFEE    Male              0      No        Yes       0   \n",
       "\n",
       "     phoneservice     multiplelines internetservice       onlinesecurity  ...  \\\n",
       "488            No  No phone service             DSL                  Yes  ...   \n",
       "753           Yes                No              No  No internet service  ...   \n",
       "936           Yes                No             DSL                  Yes  ...   \n",
       "1082          Yes               Yes              No  No internet service  ...   \n",
       "1340           No  No phone service             DSL                  Yes  ...   \n",
       "3331          Yes                No              No  No internet service  ...   \n",
       "3826          Yes               Yes              No  No internet service  ...   \n",
       "4380          Yes                No              No  No internet service  ...   \n",
       "5218          Yes                No              No  No internet service  ...   \n",
       "6670          Yes               Yes             DSL                   No  ...   \n",
       "6754          Yes               Yes             DSL                  Yes  ...   \n",
       "\n",
       "         deviceprotection          techsupport          streamingtv  \\\n",
       "488                   Yes                  Yes                  Yes   \n",
       "753   No internet service  No internet service  No internet service   \n",
       "936                   Yes                   No                  Yes   \n",
       "1082  No internet service  No internet service  No internet service   \n",
       "1340                  Yes                  Yes                  Yes   \n",
       "3331  No internet service  No internet service  No internet service   \n",
       "3826  No internet service  No internet service  No internet service   \n",
       "4380  No internet service  No internet service  No internet service   \n",
       "5218  No internet service  No internet service  No internet service   \n",
       "6670                  Yes                  Yes                  Yes   \n",
       "6754                   No                  Yes                   No   \n",
       "\n",
       "          streamingmovies  contract paperlessbilling  \\\n",
       "488                    No  Two year              Yes   \n",
       "753   No internet service  Two year               No   \n",
       "936                   Yes  Two year               No   \n",
       "1082  No internet service  Two year               No   \n",
       "1340                   No  Two year               No   \n",
       "3331  No internet service  Two year               No   \n",
       "3826  No internet service  Two year               No   \n",
       "4380  No internet service  Two year               No   \n",
       "5218  No internet service  One year              Yes   \n",
       "6670                   No  Two year               No   \n",
       "6754                   No  Two year              Yes   \n",
       "\n",
       "                  paymentmethod monthlycharges  totalcharges  churn  \n",
       "488   Bank transfer (automatic)          52.55           NaN     No  \n",
       "753                Mailed check          20.25           NaN     No  \n",
       "936                Mailed check          80.85           NaN     No  \n",
       "1082               Mailed check          25.75           NaN     No  \n",
       "1340    Credit card (automatic)          56.05           NaN     No  \n",
       "3331               Mailed check          19.85           NaN     No  \n",
       "3826               Mailed check          25.35           NaN     No  \n",
       "4380               Mailed check          20.00           NaN     No  \n",
       "5218               Mailed check          19.70           NaN     No  \n",
       "6670               Mailed check          73.35           NaN     No  \n",
       "6754  Bank transfer (automatic)          61.90           NaN     No  \n",
       "\n",
       "[11 rows x 21 columns]"
      ]
     },
     "execution_count": 18,
     "metadata": {},
     "output_type": "execute_result"
    }
   ],
   "source": [
    "df[df['totalcharges'].isna()]"
   ]
  },
  {
   "cell_type": "code",
   "execution_count": 17,
   "id": "1f9e1e9d-7f45-4e0b-83d1-fe280c64cc4a",
   "metadata": {},
   "outputs": [
    {
     "data": {
      "text/html": [
       "<div>\n",
       "<style scoped>\n",
       "    .dataframe tbody tr th:only-of-type {\n",
       "        vertical-align: middle;\n",
       "    }\n",
       "\n",
       "    .dataframe tbody tr th {\n",
       "        vertical-align: top;\n",
       "    }\n",
       "\n",
       "    .dataframe thead th {\n",
       "        text-align: right;\n",
       "    }\n",
       "</style>\n",
       "<table border=\"1\" class=\"dataframe\">\n",
       "  <thead>\n",
       "    <tr style=\"text-align: right;\">\n",
       "      <th></th>\n",
       "      <th>paymentmethod</th>\n",
       "      <th>monthlycharges</th>\n",
       "      <th>totalcharges</th>\n",
       "      <th>churn</th>\n",
       "    </tr>\n",
       "  </thead>\n",
       "  <tbody>\n",
       "    <tr>\n",
       "      <th>488</th>\n",
       "      <td>Bank transfer (automatic)</td>\n",
       "      <td>52.55</td>\n",
       "      <td>NaN</td>\n",
       "      <td>No</td>\n",
       "    </tr>\n",
       "    <tr>\n",
       "      <th>753</th>\n",
       "      <td>Mailed check</td>\n",
       "      <td>20.25</td>\n",
       "      <td>NaN</td>\n",
       "      <td>No</td>\n",
       "    </tr>\n",
       "    <tr>\n",
       "      <th>936</th>\n",
       "      <td>Mailed check</td>\n",
       "      <td>80.85</td>\n",
       "      <td>NaN</td>\n",
       "      <td>No</td>\n",
       "    </tr>\n",
       "    <tr>\n",
       "      <th>1082</th>\n",
       "      <td>Mailed check</td>\n",
       "      <td>25.75</td>\n",
       "      <td>NaN</td>\n",
       "      <td>No</td>\n",
       "    </tr>\n",
       "    <tr>\n",
       "      <th>1340</th>\n",
       "      <td>Credit card (automatic)</td>\n",
       "      <td>56.05</td>\n",
       "      <td>NaN</td>\n",
       "      <td>No</td>\n",
       "    </tr>\n",
       "    <tr>\n",
       "      <th>3331</th>\n",
       "      <td>Mailed check</td>\n",
       "      <td>19.85</td>\n",
       "      <td>NaN</td>\n",
       "      <td>No</td>\n",
       "    </tr>\n",
       "    <tr>\n",
       "      <th>3826</th>\n",
       "      <td>Mailed check</td>\n",
       "      <td>25.35</td>\n",
       "      <td>NaN</td>\n",
       "      <td>No</td>\n",
       "    </tr>\n",
       "    <tr>\n",
       "      <th>4380</th>\n",
       "      <td>Mailed check</td>\n",
       "      <td>20.00</td>\n",
       "      <td>NaN</td>\n",
       "      <td>No</td>\n",
       "    </tr>\n",
       "    <tr>\n",
       "      <th>5218</th>\n",
       "      <td>Mailed check</td>\n",
       "      <td>19.70</td>\n",
       "      <td>NaN</td>\n",
       "      <td>No</td>\n",
       "    </tr>\n",
       "    <tr>\n",
       "      <th>6670</th>\n",
       "      <td>Mailed check</td>\n",
       "      <td>73.35</td>\n",
       "      <td>NaN</td>\n",
       "      <td>No</td>\n",
       "    </tr>\n",
       "    <tr>\n",
       "      <th>6754</th>\n",
       "      <td>Bank transfer (automatic)</td>\n",
       "      <td>61.90</td>\n",
       "      <td>NaN</td>\n",
       "      <td>No</td>\n",
       "    </tr>\n",
       "  </tbody>\n",
       "</table>\n",
       "</div>"
      ],
      "text/plain": [
       "                  paymentmethod  monthlycharges  totalcharges churn\n",
       "488   Bank transfer (automatic)           52.55           NaN    No\n",
       "753                Mailed check           20.25           NaN    No\n",
       "936                Mailed check           80.85           NaN    No\n",
       "1082               Mailed check           25.75           NaN    No\n",
       "1340    Credit card (automatic)           56.05           NaN    No\n",
       "3331               Mailed check           19.85           NaN    No\n",
       "3826               Mailed check           25.35           NaN    No\n",
       "4380               Mailed check           20.00           NaN    No\n",
       "5218               Mailed check           19.70           NaN    No\n",
       "6670               Mailed check           73.35           NaN    No\n",
       "6754  Bank transfer (automatic)           61.90           NaN    No"
      ]
     },
     "execution_count": 17,
     "metadata": {},
     "output_type": "execute_result"
    }
   ],
   "source": [
    "df[df['totalcharges'].isna()].iloc[:, [-4, -3, -2, -1]]"
   ]
  },
  {
   "cell_type": "markdown",
   "id": "74785ffc-0485-4721-9c7d-c3361ef7551c",
   "metadata": {},
   "source": [
    "* Since we have only one column with missing values, we will not create other notebook for imputation"
   ]
  },
  {
   "cell_type": "markdown",
   "id": "a9d4c0a9-9ae2-4fee-ad0b-7f2d4b75d045",
   "metadata": {},
   "source": [
    "# Missing values --> Total Charges"
   ]
  },
  {
   "cell_type": "code",
   "execution_count": 25,
   "id": "df3e1b37-6565-47cd-a937-5245e09ea456",
   "metadata": {},
   "outputs": [
    {
     "data": {
      "text/html": [
       "<div>\n",
       "<style scoped>\n",
       "    .dataframe tbody tr th:only-of-type {\n",
       "        vertical-align: middle;\n",
       "    }\n",
       "\n",
       "    .dataframe tbody tr th {\n",
       "        vertical-align: top;\n",
       "    }\n",
       "\n",
       "    .dataframe thead th {\n",
       "        text-align: right;\n",
       "    }\n",
       "</style>\n",
       "<table border=\"1\" class=\"dataframe\">\n",
       "  <thead>\n",
       "    <tr style=\"text-align: right;\">\n",
       "      <th></th>\n",
       "      <th>churn</th>\n",
       "      <th>tenure</th>\n",
       "      <th>phoneservice</th>\n",
       "      <th>multiplelines</th>\n",
       "      <th>onlinesecurity</th>\n",
       "      <th>deviceprotection</th>\n",
       "      <th>techsupport</th>\n",
       "      <th>monthlycharges</th>\n",
       "      <th>totalcharges</th>\n",
       "    </tr>\n",
       "  </thead>\n",
       "  <tbody>\n",
       "    <tr>\n",
       "      <th>8</th>\n",
       "      <td>Yes</td>\n",
       "      <td>28</td>\n",
       "      <td>Yes</td>\n",
       "      <td>Yes</td>\n",
       "      <td>No</td>\n",
       "      <td>Yes</td>\n",
       "      <td>Yes</td>\n",
       "      <td>104.80</td>\n",
       "      <td>3046.05</td>\n",
       "    </tr>\n",
       "    <tr>\n",
       "      <th>13</th>\n",
       "      <td>Yes</td>\n",
       "      <td>49</td>\n",
       "      <td>Yes</td>\n",
       "      <td>Yes</td>\n",
       "      <td>No</td>\n",
       "      <td>Yes</td>\n",
       "      <td>No</td>\n",
       "      <td>103.70</td>\n",
       "      <td>5036.30</td>\n",
       "    </tr>\n",
       "    <tr>\n",
       "      <th>38</th>\n",
       "      <td>Yes</td>\n",
       "      <td>34</td>\n",
       "      <td>Yes</td>\n",
       "      <td>Yes</td>\n",
       "      <td>No</td>\n",
       "      <td>Yes</td>\n",
       "      <td>No</td>\n",
       "      <td>106.35</td>\n",
       "      <td>3549.25</td>\n",
       "    </tr>\n",
       "    <tr>\n",
       "      <th>104</th>\n",
       "      <td>Yes</td>\n",
       "      <td>68</td>\n",
       "      <td>Yes</td>\n",
       "      <td>Yes</td>\n",
       "      <td>No</td>\n",
       "      <td>Yes</td>\n",
       "      <td>Yes</td>\n",
       "      <td>110.00</td>\n",
       "      <td>7611.85</td>\n",
       "    </tr>\n",
       "    <tr>\n",
       "      <th>117</th>\n",
       "      <td>Yes</td>\n",
       "      <td>10</td>\n",
       "      <td>Yes</td>\n",
       "      <td>Yes</td>\n",
       "      <td>Yes</td>\n",
       "      <td>No</td>\n",
       "      <td>No</td>\n",
       "      <td>100.25</td>\n",
       "      <td>1064.65</td>\n",
       "    </tr>\n",
       "    <tr>\n",
       "      <th>...</th>\n",
       "      <td>...</td>\n",
       "      <td>...</td>\n",
       "      <td>...</td>\n",
       "      <td>...</td>\n",
       "      <td>...</td>\n",
       "      <td>...</td>\n",
       "      <td>...</td>\n",
       "      <td>...</td>\n",
       "      <td>...</td>\n",
       "    </tr>\n",
       "    <tr>\n",
       "      <th>6952</th>\n",
       "      <td>Yes</td>\n",
       "      <td>48</td>\n",
       "      <td>Yes</td>\n",
       "      <td>Yes</td>\n",
       "      <td>No</td>\n",
       "      <td>Yes</td>\n",
       "      <td>No</td>\n",
       "      <td>107.40</td>\n",
       "      <td>5121.30</td>\n",
       "    </tr>\n",
       "    <tr>\n",
       "      <th>6962</th>\n",
       "      <td>Yes</td>\n",
       "      <td>27</td>\n",
       "      <td>Yes</td>\n",
       "      <td>No</td>\n",
       "      <td>Yes</td>\n",
       "      <td>Yes</td>\n",
       "      <td>No</td>\n",
       "      <td>101.25</td>\n",
       "      <td>2754.45</td>\n",
       "    </tr>\n",
       "    <tr>\n",
       "      <th>6972</th>\n",
       "      <td>Yes</td>\n",
       "      <td>56</td>\n",
       "      <td>Yes</td>\n",
       "      <td>Yes</td>\n",
       "      <td>No</td>\n",
       "      <td>Yes</td>\n",
       "      <td>Yes</td>\n",
       "      <td>111.95</td>\n",
       "      <td>6418.90</td>\n",
       "    </tr>\n",
       "    <tr>\n",
       "      <th>7006</th>\n",
       "      <td>Yes</td>\n",
       "      <td>40</td>\n",
       "      <td>Yes</td>\n",
       "      <td>Yes</td>\n",
       "      <td>No</td>\n",
       "      <td>Yes</td>\n",
       "      <td>No</td>\n",
       "      <td>104.50</td>\n",
       "      <td>4036.85</td>\n",
       "    </tr>\n",
       "    <tr>\n",
       "      <th>7034</th>\n",
       "      <td>Yes</td>\n",
       "      <td>67</td>\n",
       "      <td>Yes</td>\n",
       "      <td>Yes</td>\n",
       "      <td>Yes</td>\n",
       "      <td>Yes</td>\n",
       "      <td>No</td>\n",
       "      <td>102.95</td>\n",
       "      <td>6886.25</td>\n",
       "    </tr>\n",
       "  </tbody>\n",
       "</table>\n",
       "<p>253 rows × 9 columns</p>\n",
       "</div>"
      ],
      "text/plain": [
       "     churn  tenure phoneservice multiplelines onlinesecurity deviceprotection  \\\n",
       "8      Yes      28          Yes           Yes             No              Yes   \n",
       "13     Yes      49          Yes           Yes             No              Yes   \n",
       "38     Yes      34          Yes           Yes             No              Yes   \n",
       "104    Yes      68          Yes           Yes             No              Yes   \n",
       "117    Yes      10          Yes           Yes            Yes               No   \n",
       "...    ...     ...          ...           ...            ...              ...   \n",
       "6952   Yes      48          Yes           Yes             No              Yes   \n",
       "6962   Yes      27          Yes            No            Yes              Yes   \n",
       "6972   Yes      56          Yes           Yes             No              Yes   \n",
       "7006   Yes      40          Yes           Yes             No              Yes   \n",
       "7034   Yes      67          Yes           Yes            Yes              Yes   \n",
       "\n",
       "     techsupport  monthlycharges  totalcharges  \n",
       "8            Yes          104.80       3046.05  \n",
       "13            No          103.70       5036.30  \n",
       "38            No          106.35       3549.25  \n",
       "104          Yes          110.00       7611.85  \n",
       "117           No          100.25       1064.65  \n",
       "...          ...             ...           ...  \n",
       "6952          No          107.40       5121.30  \n",
       "6962          No          101.25       2754.45  \n",
       "6972         Yes          111.95       6418.90  \n",
       "7006          No          104.50       4036.85  \n",
       "7034          No          102.95       6886.25  \n",
       "\n",
       "[253 rows x 9 columns]"
      ]
     },
     "execution_count": 25,
     "metadata": {},
     "output_type": "execute_result"
    }
   ],
   "source": [
    "df[(df['monthlycharges'] > 100) & (df['churn'] == 'Yes')].loc[:, ['churn','tenure','phoneservice', 'multiplelines', 'onlinesecurity', 'deviceprotection', 'techsupport', 'monthlycharges', 'totalcharges']]"
   ]
  },
  {
   "cell_type": "code",
   "execution_count": 36,
   "id": "bdafb2ed-1545-4a63-95ed-4b8f340b7b2c",
   "metadata": {},
   "outputs": [
    {
     "data": {
      "text/plain": [
       "7814.25"
      ]
     },
     "execution_count": 36,
     "metadata": {},
     "output_type": "execute_result"
    }
   ],
   "source": [
    "69 * 113.25"
   ]
  },
  {
   "cell_type": "code",
   "execution_count": 30,
   "id": "b9020422-7fcc-4d50-8308-dd1363e5fd31",
   "metadata": {},
   "outputs": [
    {
     "data": {
      "text/html": [
       "<div>\n",
       "<style scoped>\n",
       "    .dataframe tbody tr th:only-of-type {\n",
       "        vertical-align: middle;\n",
       "    }\n",
       "\n",
       "    .dataframe tbody tr th {\n",
       "        vertical-align: top;\n",
       "    }\n",
       "\n",
       "    .dataframe thead th {\n",
       "        text-align: right;\n",
       "    }\n",
       "</style>\n",
       "<table border=\"1\" class=\"dataframe\">\n",
       "  <thead>\n",
       "    <tr style=\"text-align: right;\">\n",
       "      <th></th>\n",
       "      <th>churn</th>\n",
       "      <th>tenure</th>\n",
       "      <th>phoneservice</th>\n",
       "      <th>multiplelines</th>\n",
       "      <th>onlinesecurity</th>\n",
       "      <th>deviceprotection</th>\n",
       "      <th>techsupport</th>\n",
       "      <th>monthlycharges</th>\n",
       "      <th>totalcharges</th>\n",
       "    </tr>\n",
       "  </thead>\n",
       "  <tbody>\n",
       "    <tr>\n",
       "      <th>12</th>\n",
       "      <td>No</td>\n",
       "      <td>58</td>\n",
       "      <td>Yes</td>\n",
       "      <td>Yes</td>\n",
       "      <td>No</td>\n",
       "      <td>Yes</td>\n",
       "      <td>No</td>\n",
       "      <td>100.35</td>\n",
       "      <td>5681.10</td>\n",
       "    </tr>\n",
       "    <tr>\n",
       "      <th>14</th>\n",
       "      <td>No</td>\n",
       "      <td>25</td>\n",
       "      <td>Yes</td>\n",
       "      <td>No</td>\n",
       "      <td>Yes</td>\n",
       "      <td>Yes</td>\n",
       "      <td>Yes</td>\n",
       "      <td>105.50</td>\n",
       "      <td>2686.05</td>\n",
       "    </tr>\n",
       "    <tr>\n",
       "      <th>15</th>\n",
       "      <td>No</td>\n",
       "      <td>69</td>\n",
       "      <td>Yes</td>\n",
       "      <td>Yes</td>\n",
       "      <td>Yes</td>\n",
       "      <td>Yes</td>\n",
       "      <td>Yes</td>\n",
       "      <td>113.25</td>\n",
       "      <td>7895.15</td>\n",
       "    </tr>\n",
       "    <tr>\n",
       "      <th>17</th>\n",
       "      <td>No</td>\n",
       "      <td>71</td>\n",
       "      <td>Yes</td>\n",
       "      <td>Yes</td>\n",
       "      <td>Yes</td>\n",
       "      <td>Yes</td>\n",
       "      <td>No</td>\n",
       "      <td>106.70</td>\n",
       "      <td>7382.25</td>\n",
       "    </tr>\n",
       "    <tr>\n",
       "      <th>57</th>\n",
       "      <td>No</td>\n",
       "      <td>66</td>\n",
       "      <td>Yes</td>\n",
       "      <td>Yes</td>\n",
       "      <td>No</td>\n",
       "      <td>Yes</td>\n",
       "      <td>Yes</td>\n",
       "      <td>108.45</td>\n",
       "      <td>7076.35</td>\n",
       "    </tr>\n",
       "    <tr>\n",
       "      <th>...</th>\n",
       "      <td>...</td>\n",
       "      <td>...</td>\n",
       "      <td>...</td>\n",
       "      <td>...</td>\n",
       "      <td>...</td>\n",
       "      <td>...</td>\n",
       "      <td>...</td>\n",
       "      <td>...</td>\n",
       "      <td>...</td>\n",
       "    </tr>\n",
       "    <tr>\n",
       "      <th>7002</th>\n",
       "      <td>No</td>\n",
       "      <td>64</td>\n",
       "      <td>Yes</td>\n",
       "      <td>Yes</td>\n",
       "      <td>No</td>\n",
       "      <td>No</td>\n",
       "      <td>Yes</td>\n",
       "      <td>105.40</td>\n",
       "      <td>6794.75</td>\n",
       "    </tr>\n",
       "    <tr>\n",
       "      <th>7022</th>\n",
       "      <td>No</td>\n",
       "      <td>72</td>\n",
       "      <td>Yes</td>\n",
       "      <td>Yes</td>\n",
       "      <td>No</td>\n",
       "      <td>Yes</td>\n",
       "      <td>No</td>\n",
       "      <td>104.95</td>\n",
       "      <td>7544.30</td>\n",
       "    </tr>\n",
       "    <tr>\n",
       "      <th>7023</th>\n",
       "      <td>No</td>\n",
       "      <td>63</td>\n",
       "      <td>Yes</td>\n",
       "      <td>Yes</td>\n",
       "      <td>No</td>\n",
       "      <td>Yes</td>\n",
       "      <td>No</td>\n",
       "      <td>103.50</td>\n",
       "      <td>6479.40</td>\n",
       "    </tr>\n",
       "    <tr>\n",
       "      <th>7039</th>\n",
       "      <td>No</td>\n",
       "      <td>72</td>\n",
       "      <td>Yes</td>\n",
       "      <td>Yes</td>\n",
       "      <td>No</td>\n",
       "      <td>Yes</td>\n",
       "      <td>No</td>\n",
       "      <td>103.20</td>\n",
       "      <td>7362.90</td>\n",
       "    </tr>\n",
       "    <tr>\n",
       "      <th>7042</th>\n",
       "      <td>No</td>\n",
       "      <td>66</td>\n",
       "      <td>Yes</td>\n",
       "      <td>No</td>\n",
       "      <td>Yes</td>\n",
       "      <td>Yes</td>\n",
       "      <td>Yes</td>\n",
       "      <td>105.65</td>\n",
       "      <td>6844.50</td>\n",
       "    </tr>\n",
       "  </tbody>\n",
       "</table>\n",
       "<p>649 rows × 9 columns</p>\n",
       "</div>"
      ],
      "text/plain": [
       "     churn  tenure phoneservice multiplelines onlinesecurity deviceprotection  \\\n",
       "12      No      58          Yes           Yes             No              Yes   \n",
       "14      No      25          Yes            No            Yes              Yes   \n",
       "15      No      69          Yes           Yes            Yes              Yes   \n",
       "17      No      71          Yes           Yes            Yes              Yes   \n",
       "57      No      66          Yes           Yes             No              Yes   \n",
       "...    ...     ...          ...           ...            ...              ...   \n",
       "7002    No      64          Yes           Yes             No               No   \n",
       "7022    No      72          Yes           Yes             No              Yes   \n",
       "7023    No      63          Yes           Yes             No              Yes   \n",
       "7039    No      72          Yes           Yes             No              Yes   \n",
       "7042    No      66          Yes            No            Yes              Yes   \n",
       "\n",
       "     techsupport  monthlycharges  totalcharges  \n",
       "12            No          100.35       5681.10  \n",
       "14           Yes          105.50       2686.05  \n",
       "15           Yes          113.25       7895.15  \n",
       "17            No          106.70       7382.25  \n",
       "57           Yes          108.45       7076.35  \n",
       "...          ...             ...           ...  \n",
       "7002         Yes          105.40       6794.75  \n",
       "7022          No          104.95       7544.30  \n",
       "7023          No          103.50       6479.40  \n",
       "7039          No          103.20       7362.90  \n",
       "7042         Yes          105.65       6844.50  \n",
       "\n",
       "[649 rows x 9 columns]"
      ]
     },
     "execution_count": 30,
     "metadata": {},
     "output_type": "execute_result"
    }
   ],
   "source": [
    "df[(df['monthlycharges'] > 100) & (df['churn'] == 'No')].loc[:, ['churn','tenure','phoneservice', 'multiplelines', 'onlinesecurity', 'deviceprotection', 'techsupport', 'monthlycharges', 'totalcharges']]"
   ]
  },
  {
   "cell_type": "code",
   "execution_count": 29,
   "id": "f9b0d82e-157e-4476-8cc6-764c2d7d5d3c",
   "metadata": {},
   "outputs": [
    {
     "data": {
      "text/html": [
       "<div>\n",
       "<style scoped>\n",
       "    .dataframe tbody tr th:only-of-type {\n",
       "        vertical-align: middle;\n",
       "    }\n",
       "\n",
       "    .dataframe tbody tr th {\n",
       "        vertical-align: top;\n",
       "    }\n",
       "\n",
       "    .dataframe thead th {\n",
       "        text-align: right;\n",
       "    }\n",
       "</style>\n",
       "<table border=\"1\" class=\"dataframe\">\n",
       "  <thead>\n",
       "    <tr style=\"text-align: right;\">\n",
       "      <th></th>\n",
       "      <th>churn</th>\n",
       "      <th>tenure</th>\n",
       "      <th>phoneservice</th>\n",
       "      <th>multiplelines</th>\n",
       "      <th>onlinesecurity</th>\n",
       "      <th>deviceprotection</th>\n",
       "      <th>techsupport</th>\n",
       "      <th>monthlycharges</th>\n",
       "      <th>totalcharges</th>\n",
       "    </tr>\n",
       "  </thead>\n",
       "  <tbody>\n",
       "    <tr>\n",
       "      <th>488</th>\n",
       "      <td>No</td>\n",
       "      <td>0</td>\n",
       "      <td>No</td>\n",
       "      <td>No phone service</td>\n",
       "      <td>Yes</td>\n",
       "      <td>Yes</td>\n",
       "      <td>Yes</td>\n",
       "      <td>52.55</td>\n",
       "      <td>NaN</td>\n",
       "    </tr>\n",
       "    <tr>\n",
       "      <th>753</th>\n",
       "      <td>No</td>\n",
       "      <td>0</td>\n",
       "      <td>Yes</td>\n",
       "      <td>No</td>\n",
       "      <td>No internet service</td>\n",
       "      <td>No internet service</td>\n",
       "      <td>No internet service</td>\n",
       "      <td>20.25</td>\n",
       "      <td>NaN</td>\n",
       "    </tr>\n",
       "    <tr>\n",
       "      <th>936</th>\n",
       "      <td>No</td>\n",
       "      <td>0</td>\n",
       "      <td>Yes</td>\n",
       "      <td>No</td>\n",
       "      <td>Yes</td>\n",
       "      <td>Yes</td>\n",
       "      <td>No</td>\n",
       "      <td>80.85</td>\n",
       "      <td>NaN</td>\n",
       "    </tr>\n",
       "    <tr>\n",
       "      <th>1082</th>\n",
       "      <td>No</td>\n",
       "      <td>0</td>\n",
       "      <td>Yes</td>\n",
       "      <td>Yes</td>\n",
       "      <td>No internet service</td>\n",
       "      <td>No internet service</td>\n",
       "      <td>No internet service</td>\n",
       "      <td>25.75</td>\n",
       "      <td>NaN</td>\n",
       "    </tr>\n",
       "    <tr>\n",
       "      <th>1340</th>\n",
       "      <td>No</td>\n",
       "      <td>0</td>\n",
       "      <td>No</td>\n",
       "      <td>No phone service</td>\n",
       "      <td>Yes</td>\n",
       "      <td>Yes</td>\n",
       "      <td>Yes</td>\n",
       "      <td>56.05</td>\n",
       "      <td>NaN</td>\n",
       "    </tr>\n",
       "    <tr>\n",
       "      <th>3331</th>\n",
       "      <td>No</td>\n",
       "      <td>0</td>\n",
       "      <td>Yes</td>\n",
       "      <td>No</td>\n",
       "      <td>No internet service</td>\n",
       "      <td>No internet service</td>\n",
       "      <td>No internet service</td>\n",
       "      <td>19.85</td>\n",
       "      <td>NaN</td>\n",
       "    </tr>\n",
       "    <tr>\n",
       "      <th>3826</th>\n",
       "      <td>No</td>\n",
       "      <td>0</td>\n",
       "      <td>Yes</td>\n",
       "      <td>Yes</td>\n",
       "      <td>No internet service</td>\n",
       "      <td>No internet service</td>\n",
       "      <td>No internet service</td>\n",
       "      <td>25.35</td>\n",
       "      <td>NaN</td>\n",
       "    </tr>\n",
       "    <tr>\n",
       "      <th>4380</th>\n",
       "      <td>No</td>\n",
       "      <td>0</td>\n",
       "      <td>Yes</td>\n",
       "      <td>No</td>\n",
       "      <td>No internet service</td>\n",
       "      <td>No internet service</td>\n",
       "      <td>No internet service</td>\n",
       "      <td>20.00</td>\n",
       "      <td>NaN</td>\n",
       "    </tr>\n",
       "    <tr>\n",
       "      <th>5218</th>\n",
       "      <td>No</td>\n",
       "      <td>0</td>\n",
       "      <td>Yes</td>\n",
       "      <td>No</td>\n",
       "      <td>No internet service</td>\n",
       "      <td>No internet service</td>\n",
       "      <td>No internet service</td>\n",
       "      <td>19.70</td>\n",
       "      <td>NaN</td>\n",
       "    </tr>\n",
       "    <tr>\n",
       "      <th>6670</th>\n",
       "      <td>No</td>\n",
       "      <td>0</td>\n",
       "      <td>Yes</td>\n",
       "      <td>Yes</td>\n",
       "      <td>No</td>\n",
       "      <td>Yes</td>\n",
       "      <td>Yes</td>\n",
       "      <td>73.35</td>\n",
       "      <td>NaN</td>\n",
       "    </tr>\n",
       "    <tr>\n",
       "      <th>6754</th>\n",
       "      <td>No</td>\n",
       "      <td>0</td>\n",
       "      <td>Yes</td>\n",
       "      <td>Yes</td>\n",
       "      <td>Yes</td>\n",
       "      <td>No</td>\n",
       "      <td>Yes</td>\n",
       "      <td>61.90</td>\n",
       "      <td>NaN</td>\n",
       "    </tr>\n",
       "  </tbody>\n",
       "</table>\n",
       "</div>"
      ],
      "text/plain": [
       "     churn  tenure phoneservice     multiplelines       onlinesecurity  \\\n",
       "488     No       0           No  No phone service                  Yes   \n",
       "753     No       0          Yes                No  No internet service   \n",
       "936     No       0          Yes                No                  Yes   \n",
       "1082    No       0          Yes               Yes  No internet service   \n",
       "1340    No       0           No  No phone service                  Yes   \n",
       "3331    No       0          Yes                No  No internet service   \n",
       "3826    No       0          Yes               Yes  No internet service   \n",
       "4380    No       0          Yes                No  No internet service   \n",
       "5218    No       0          Yes                No  No internet service   \n",
       "6670    No       0          Yes               Yes                   No   \n",
       "6754    No       0          Yes               Yes                  Yes   \n",
       "\n",
       "         deviceprotection          techsupport  monthlycharges  totalcharges  \n",
       "488                   Yes                  Yes           52.55           NaN  \n",
       "753   No internet service  No internet service           20.25           NaN  \n",
       "936                   Yes                   No           80.85           NaN  \n",
       "1082  No internet service  No internet service           25.75           NaN  \n",
       "1340                  Yes                  Yes           56.05           NaN  \n",
       "3331  No internet service  No internet service           19.85           NaN  \n",
       "3826  No internet service  No internet service           25.35           NaN  \n",
       "4380  No internet service  No internet service           20.00           NaN  \n",
       "5218  No internet service  No internet service           19.70           NaN  \n",
       "6670                  Yes                  Yes           73.35           NaN  \n",
       "6754                   No                  Yes           61.90           NaN  "
      ]
     },
     "execution_count": 29,
     "metadata": {},
     "output_type": "execute_result"
    }
   ],
   "source": [
    "df[df['totalcharges'].isna()].loc[:, ['churn','tenure','phoneservice', 'multiplelines', 'onlinesecurity', 'deviceprotection', 'techsupport', 'monthlycharges', 'totalcharges']]"
   ]
  },
  {
   "cell_type": "code",
   "execution_count": 33,
   "id": "2cfccad5-bfc4-458f-aba6-b7f8a140091c",
   "metadata": {},
   "outputs": [
    {
     "data": {
      "text/html": [
       "<div>\n",
       "<style scoped>\n",
       "    .dataframe tbody tr th:only-of-type {\n",
       "        vertical-align: middle;\n",
       "    }\n",
       "\n",
       "    .dataframe tbody tr th {\n",
       "        vertical-align: top;\n",
       "    }\n",
       "\n",
       "    .dataframe thead th {\n",
       "        text-align: right;\n",
       "    }\n",
       "</style>\n",
       "<table border=\"1\" class=\"dataframe\">\n",
       "  <thead>\n",
       "    <tr style=\"text-align: right;\">\n",
       "      <th></th>\n",
       "      <th>churn</th>\n",
       "      <th>tenure</th>\n",
       "      <th>phoneservice</th>\n",
       "      <th>multiplelines</th>\n",
       "      <th>onlinesecurity</th>\n",
       "      <th>deviceprotection</th>\n",
       "      <th>techsupport</th>\n",
       "      <th>monthlycharges</th>\n",
       "      <th>totalcharges</th>\n",
       "    </tr>\n",
       "  </thead>\n",
       "  <tbody>\n",
       "    <tr>\n",
       "      <th>0</th>\n",
       "      <td>No</td>\n",
       "      <td>1</td>\n",
       "      <td>No</td>\n",
       "      <td>No phone service</td>\n",
       "      <td>No</td>\n",
       "      <td>No</td>\n",
       "      <td>No</td>\n",
       "      <td>29.85</td>\n",
       "      <td>29.85</td>\n",
       "    </tr>\n",
       "    <tr>\n",
       "      <th>20</th>\n",
       "      <td>Yes</td>\n",
       "      <td>1</td>\n",
       "      <td>No</td>\n",
       "      <td>No phone service</td>\n",
       "      <td>No</td>\n",
       "      <td>Yes</td>\n",
       "      <td>No</td>\n",
       "      <td>39.65</td>\n",
       "      <td>39.65</td>\n",
       "    </tr>\n",
       "    <tr>\n",
       "      <th>22</th>\n",
       "      <td>Yes</td>\n",
       "      <td>1</td>\n",
       "      <td>Yes</td>\n",
       "      <td>No</td>\n",
       "      <td>No internet service</td>\n",
       "      <td>No internet service</td>\n",
       "      <td>No internet service</td>\n",
       "      <td>20.15</td>\n",
       "      <td>20.15</td>\n",
       "    </tr>\n",
       "    <tr>\n",
       "      <th>27</th>\n",
       "      <td>Yes</td>\n",
       "      <td>1</td>\n",
       "      <td>No</td>\n",
       "      <td>No phone service</td>\n",
       "      <td>No</td>\n",
       "      <td>No</td>\n",
       "      <td>No</td>\n",
       "      <td>30.20</td>\n",
       "      <td>30.20</td>\n",
       "    </tr>\n",
       "    <tr>\n",
       "      <th>33</th>\n",
       "      <td>No</td>\n",
       "      <td>1</td>\n",
       "      <td>Yes</td>\n",
       "      <td>No</td>\n",
       "      <td>No internet service</td>\n",
       "      <td>No internet service</td>\n",
       "      <td>No internet service</td>\n",
       "      <td>20.20</td>\n",
       "      <td>20.20</td>\n",
       "    </tr>\n",
       "    <tr>\n",
       "      <th>...</th>\n",
       "      <td>...</td>\n",
       "      <td>...</td>\n",
       "      <td>...</td>\n",
       "      <td>...</td>\n",
       "      <td>...</td>\n",
       "      <td>...</td>\n",
       "      <td>...</td>\n",
       "      <td>...</td>\n",
       "      <td>...</td>\n",
       "    </tr>\n",
       "    <tr>\n",
       "      <th>6979</th>\n",
       "      <td>No</td>\n",
       "      <td>1</td>\n",
       "      <td>No</td>\n",
       "      <td>No phone service</td>\n",
       "      <td>No</td>\n",
       "      <td>No</td>\n",
       "      <td>No</td>\n",
       "      <td>24.20</td>\n",
       "      <td>24.20</td>\n",
       "    </tr>\n",
       "    <tr>\n",
       "      <th>7010</th>\n",
       "      <td>Yes</td>\n",
       "      <td>1</td>\n",
       "      <td>Yes</td>\n",
       "      <td>Yes</td>\n",
       "      <td>No</td>\n",
       "      <td>No</td>\n",
       "      <td>No</td>\n",
       "      <td>74.45</td>\n",
       "      <td>74.45</td>\n",
       "    </tr>\n",
       "    <tr>\n",
       "      <th>7016</th>\n",
       "      <td>No</td>\n",
       "      <td>1</td>\n",
       "      <td>Yes</td>\n",
       "      <td>No</td>\n",
       "      <td>No</td>\n",
       "      <td>No</td>\n",
       "      <td>No</td>\n",
       "      <td>49.95</td>\n",
       "      <td>49.95</td>\n",
       "    </tr>\n",
       "    <tr>\n",
       "      <th>7018</th>\n",
       "      <td>Yes</td>\n",
       "      <td>1</td>\n",
       "      <td>Yes</td>\n",
       "      <td>No</td>\n",
       "      <td>No</td>\n",
       "      <td>No</td>\n",
       "      <td>No</td>\n",
       "      <td>70.65</td>\n",
       "      <td>70.65</td>\n",
       "    </tr>\n",
       "    <tr>\n",
       "      <th>7032</th>\n",
       "      <td>Yes</td>\n",
       "      <td>1</td>\n",
       "      <td>Yes</td>\n",
       "      <td>Yes</td>\n",
       "      <td>No</td>\n",
       "      <td>No</td>\n",
       "      <td>No</td>\n",
       "      <td>75.75</td>\n",
       "      <td>75.75</td>\n",
       "    </tr>\n",
       "  </tbody>\n",
       "</table>\n",
       "<p>624 rows × 9 columns</p>\n",
       "</div>"
      ],
      "text/plain": [
       "     churn  tenure phoneservice     multiplelines       onlinesecurity  \\\n",
       "0       No       1           No  No phone service                   No   \n",
       "20     Yes       1           No  No phone service                   No   \n",
       "22     Yes       1          Yes                No  No internet service   \n",
       "27     Yes       1           No  No phone service                   No   \n",
       "33      No       1          Yes                No  No internet service   \n",
       "...    ...     ...          ...               ...                  ...   \n",
       "6979    No       1           No  No phone service                   No   \n",
       "7010   Yes       1          Yes               Yes                   No   \n",
       "7016    No       1          Yes                No                   No   \n",
       "7018   Yes       1          Yes                No                   No   \n",
       "7032   Yes       1          Yes               Yes                   No   \n",
       "\n",
       "         deviceprotection          techsupport  monthlycharges  totalcharges  \n",
       "0                      No                   No           29.85         29.85  \n",
       "20                    Yes                   No           39.65         39.65  \n",
       "22    No internet service  No internet service           20.15         20.15  \n",
       "27                     No                   No           30.20         30.20  \n",
       "33    No internet service  No internet service           20.20         20.20  \n",
       "...                   ...                  ...             ...           ...  \n",
       "6979                   No                   No           24.20         24.20  \n",
       "7010                   No                   No           74.45         74.45  \n",
       "7016                   No                   No           49.95         49.95  \n",
       "7018                   No                   No           70.65         70.65  \n",
       "7032                   No                   No           75.75         75.75  \n",
       "\n",
       "[624 rows x 9 columns]"
      ]
     },
     "execution_count": 33,
     "metadata": {},
     "output_type": "execute_result"
    }
   ],
   "source": [
    "df[df['tenure'] <= 1].loc[:, ['churn','tenure','phoneservice', 'multiplelines', 'onlinesecurity', 'deviceprotection', 'techsupport', 'monthlycharges', 'totalcharges']]"
   ]
  },
  {
   "cell_type": "code",
   "execution_count": 37,
   "id": "3e7e92ea-b4ae-4729-be3c-f4a5ecd976bc",
   "metadata": {},
   "outputs": [
    {
     "data": {
      "text/html": [
       "<div>\n",
       "<style scoped>\n",
       "    .dataframe tbody tr th:only-of-type {\n",
       "        vertical-align: middle;\n",
       "    }\n",
       "\n",
       "    .dataframe tbody tr th {\n",
       "        vertical-align: top;\n",
       "    }\n",
       "\n",
       "    .dataframe thead th {\n",
       "        text-align: right;\n",
       "    }\n",
       "</style>\n",
       "<table border=\"1\" class=\"dataframe\">\n",
       "  <thead>\n",
       "    <tr style=\"text-align: right;\">\n",
       "      <th></th>\n",
       "      <th>churn</th>\n",
       "      <th>tenure</th>\n",
       "      <th>phoneservice</th>\n",
       "      <th>multiplelines</th>\n",
       "      <th>onlinesecurity</th>\n",
       "      <th>deviceprotection</th>\n",
       "      <th>techsupport</th>\n",
       "      <th>monthlycharges</th>\n",
       "      <th>totalcharges</th>\n",
       "    </tr>\n",
       "  </thead>\n",
       "  <tbody>\n",
       "    <tr>\n",
       "      <th>20</th>\n",
       "      <td>Yes</td>\n",
       "      <td>1</td>\n",
       "      <td>No</td>\n",
       "      <td>No phone service</td>\n",
       "      <td>No</td>\n",
       "      <td>Yes</td>\n",
       "      <td>No</td>\n",
       "      <td>39.65</td>\n",
       "      <td>39.65</td>\n",
       "    </tr>\n",
       "    <tr>\n",
       "      <th>22</th>\n",
       "      <td>Yes</td>\n",
       "      <td>1</td>\n",
       "      <td>Yes</td>\n",
       "      <td>No</td>\n",
       "      <td>No internet service</td>\n",
       "      <td>No internet service</td>\n",
       "      <td>No internet service</td>\n",
       "      <td>20.15</td>\n",
       "      <td>20.15</td>\n",
       "    </tr>\n",
       "    <tr>\n",
       "      <th>27</th>\n",
       "      <td>Yes</td>\n",
       "      <td>1</td>\n",
       "      <td>No</td>\n",
       "      <td>No phone service</td>\n",
       "      <td>No</td>\n",
       "      <td>No</td>\n",
       "      <td>No</td>\n",
       "      <td>30.20</td>\n",
       "      <td>30.20</td>\n",
       "    </tr>\n",
       "    <tr>\n",
       "      <th>80</th>\n",
       "      <td>Yes</td>\n",
       "      <td>1</td>\n",
       "      <td>Yes</td>\n",
       "      <td>No</td>\n",
       "      <td>No</td>\n",
       "      <td>No</td>\n",
       "      <td>No</td>\n",
       "      <td>79.35</td>\n",
       "      <td>79.35</td>\n",
       "    </tr>\n",
       "    <tr>\n",
       "      <th>133</th>\n",
       "      <td>Yes</td>\n",
       "      <td>1</td>\n",
       "      <td>No</td>\n",
       "      <td>No phone service</td>\n",
       "      <td>No</td>\n",
       "      <td>No</td>\n",
       "      <td>No</td>\n",
       "      <td>35.45</td>\n",
       "      <td>35.45</td>\n",
       "    </tr>\n",
       "    <tr>\n",
       "      <th>...</th>\n",
       "      <td>...</td>\n",
       "      <td>...</td>\n",
       "      <td>...</td>\n",
       "      <td>...</td>\n",
       "      <td>...</td>\n",
       "      <td>...</td>\n",
       "      <td>...</td>\n",
       "      <td>...</td>\n",
       "      <td>...</td>\n",
       "    </tr>\n",
       "    <tr>\n",
       "      <th>6943</th>\n",
       "      <td>Yes</td>\n",
       "      <td>1</td>\n",
       "      <td>No</td>\n",
       "      <td>No phone service</td>\n",
       "      <td>Yes</td>\n",
       "      <td>No</td>\n",
       "      <td>No</td>\n",
       "      <td>30.50</td>\n",
       "      <td>30.50</td>\n",
       "    </tr>\n",
       "    <tr>\n",
       "      <th>6969</th>\n",
       "      <td>Yes</td>\n",
       "      <td>1</td>\n",
       "      <td>Yes</td>\n",
       "      <td>No</td>\n",
       "      <td>No internet service</td>\n",
       "      <td>No internet service</td>\n",
       "      <td>No internet service</td>\n",
       "      <td>20.50</td>\n",
       "      <td>20.50</td>\n",
       "    </tr>\n",
       "    <tr>\n",
       "      <th>7010</th>\n",
       "      <td>Yes</td>\n",
       "      <td>1</td>\n",
       "      <td>Yes</td>\n",
       "      <td>Yes</td>\n",
       "      <td>No</td>\n",
       "      <td>No</td>\n",
       "      <td>No</td>\n",
       "      <td>74.45</td>\n",
       "      <td>74.45</td>\n",
       "    </tr>\n",
       "    <tr>\n",
       "      <th>7018</th>\n",
       "      <td>Yes</td>\n",
       "      <td>1</td>\n",
       "      <td>Yes</td>\n",
       "      <td>No</td>\n",
       "      <td>No</td>\n",
       "      <td>No</td>\n",
       "      <td>No</td>\n",
       "      <td>70.65</td>\n",
       "      <td>70.65</td>\n",
       "    </tr>\n",
       "    <tr>\n",
       "      <th>7032</th>\n",
       "      <td>Yes</td>\n",
       "      <td>1</td>\n",
       "      <td>Yes</td>\n",
       "      <td>Yes</td>\n",
       "      <td>No</td>\n",
       "      <td>No</td>\n",
       "      <td>No</td>\n",
       "      <td>75.75</td>\n",
       "      <td>75.75</td>\n",
       "    </tr>\n",
       "  </tbody>\n",
       "</table>\n",
       "<p>380 rows × 9 columns</p>\n",
       "</div>"
      ],
      "text/plain": [
       "     churn  tenure phoneservice     multiplelines       onlinesecurity  \\\n",
       "20     Yes       1           No  No phone service                   No   \n",
       "22     Yes       1          Yes                No  No internet service   \n",
       "27     Yes       1           No  No phone service                   No   \n",
       "80     Yes       1          Yes                No                   No   \n",
       "133    Yes       1           No  No phone service                   No   \n",
       "...    ...     ...          ...               ...                  ...   \n",
       "6943   Yes       1           No  No phone service                  Yes   \n",
       "6969   Yes       1          Yes                No  No internet service   \n",
       "7010   Yes       1          Yes               Yes                   No   \n",
       "7018   Yes       1          Yes                No                   No   \n",
       "7032   Yes       1          Yes               Yes                   No   \n",
       "\n",
       "         deviceprotection          techsupport  monthlycharges  totalcharges  \n",
       "20                    Yes                   No           39.65         39.65  \n",
       "22    No internet service  No internet service           20.15         20.15  \n",
       "27                     No                   No           30.20         30.20  \n",
       "80                     No                   No           79.35         79.35  \n",
       "133                    No                   No           35.45         35.45  \n",
       "...                   ...                  ...             ...           ...  \n",
       "6943                   No                   No           30.50         30.50  \n",
       "6969  No internet service  No internet service           20.50         20.50  \n",
       "7010                   No                   No           74.45         74.45  \n",
       "7018                   No                   No           70.65         70.65  \n",
       "7032                   No                   No           75.75         75.75  \n",
       "\n",
       "[380 rows x 9 columns]"
      ]
     },
     "execution_count": 37,
     "metadata": {},
     "output_type": "execute_result"
    }
   ],
   "source": [
    "df[(df['tenure'] <= 1) & (df['churn'] == 'Yes')].loc[:, ['churn','tenure','phoneservice', 'multiplelines', 'onlinesecurity', 'deviceprotection', 'techsupport', 'monthlycharges', 'totalcharges']]"
   ]
  },
  {
   "cell_type": "markdown",
   "id": "13ccb812-a3d7-43df-b738-f2e657d68da9",
   "metadata": {},
   "source": [
    "* There are two ways either to drop these values (11 rows) which is only around 1 % of all rows whose tenure is 1 or 0.\n",
    "* Or we could fill tenure + total_charges using tenure * total_charges.\n",
    "* Why tenure * total_charges ? because after calculating few available rows, total_charges is very close to original values."
   ]
  },
  {
   "cell_type": "code",
   "execution_count": 41,
   "id": "a70306d4-36f6-4c49-a628-95904dd43332",
   "metadata": {},
   "outputs": [
    {
     "data": {
      "text/plain": [
       "(0.6089743589743589, 0.40865384615384615)"
      ]
     },
     "execution_count": 41,
     "metadata": {},
     "output_type": "execute_result"
    }
   ],
   "source": [
    "380 / 624, 255 / 624"
   ]
  },
  {
   "cell_type": "code",
   "execution_count": 43,
   "id": "2bc5d3c7-3801-49a6-8057-8dd8c3b284fb",
   "metadata": {},
   "outputs": [],
   "source": [
    "impute_totalcharges = df[df['totalcharges'].isna()].loc[:, ['churn','tenure','monthlycharges', 'totalcharges']]"
   ]
  },
  {
   "cell_type": "code",
   "execution_count": 45,
   "id": "c6b2a41e-683c-4a8c-a20f-df0a0faad8ca",
   "metadata": {},
   "outputs": [
    {
     "data": {
      "text/html": [
       "<div>\n",
       "<style scoped>\n",
       "    .dataframe tbody tr th:only-of-type {\n",
       "        vertical-align: middle;\n",
       "    }\n",
       "\n",
       "    .dataframe tbody tr th {\n",
       "        vertical-align: top;\n",
       "    }\n",
       "\n",
       "    .dataframe thead th {\n",
       "        text-align: right;\n",
       "    }\n",
       "</style>\n",
       "<table border=\"1\" class=\"dataframe\">\n",
       "  <thead>\n",
       "    <tr style=\"text-align: right;\">\n",
       "      <th></th>\n",
       "      <th>churn</th>\n",
       "      <th>tenure</th>\n",
       "      <th>monthlycharges</th>\n",
       "      <th>totalcharges</th>\n",
       "    </tr>\n",
       "  </thead>\n",
       "  <tbody>\n",
       "    <tr>\n",
       "      <th>488</th>\n",
       "      <td>No</td>\n",
       "      <td>0</td>\n",
       "      <td>52.55</td>\n",
       "      <td>NaN</td>\n",
       "    </tr>\n",
       "    <tr>\n",
       "      <th>753</th>\n",
       "      <td>No</td>\n",
       "      <td>0</td>\n",
       "      <td>20.25</td>\n",
       "      <td>NaN</td>\n",
       "    </tr>\n",
       "    <tr>\n",
       "      <th>936</th>\n",
       "      <td>No</td>\n",
       "      <td>0</td>\n",
       "      <td>80.85</td>\n",
       "      <td>NaN</td>\n",
       "    </tr>\n",
       "    <tr>\n",
       "      <th>1082</th>\n",
       "      <td>No</td>\n",
       "      <td>0</td>\n",
       "      <td>25.75</td>\n",
       "      <td>NaN</td>\n",
       "    </tr>\n",
       "    <tr>\n",
       "      <th>1340</th>\n",
       "      <td>No</td>\n",
       "      <td>0</td>\n",
       "      <td>56.05</td>\n",
       "      <td>NaN</td>\n",
       "    </tr>\n",
       "  </tbody>\n",
       "</table>\n",
       "</div>"
      ],
      "text/plain": [
       "     churn  tenure  monthlycharges  totalcharges\n",
       "488     No       0           52.55           NaN\n",
       "753     No       0           20.25           NaN\n",
       "936     No       0           80.85           NaN\n",
       "1082    No       0           25.75           NaN\n",
       "1340    No       0           56.05           NaN"
      ]
     },
     "execution_count": 45,
     "metadata": {},
     "output_type": "execute_result"
    }
   ],
   "source": [
    "impute_totalcharges.head()"
   ]
  },
  {
   "cell_type": "code",
   "execution_count": 46,
   "id": "61a48d1b-171b-4bb3-a669-3fd435447499",
   "metadata": {},
   "outputs": [],
   "source": [
    "impute_totalcharges['tenure'] = impute_totalcharges['tenure']"
   ]
  },
  {
   "cell_type": "code",
   "execution_count": 48,
   "id": "fb641ce5-c47a-4da5-a7f9-e009f90f5cf8",
   "metadata": {},
   "outputs": [
    {
     "data": {
      "text/html": [
       "<div>\n",
       "<style scoped>\n",
       "    .dataframe tbody tr th:only-of-type {\n",
       "        vertical-align: middle;\n",
       "    }\n",
       "\n",
       "    .dataframe tbody tr th {\n",
       "        vertical-align: top;\n",
       "    }\n",
       "\n",
       "    .dataframe thead th {\n",
       "        text-align: right;\n",
       "    }\n",
       "</style>\n",
       "<table border=\"1\" class=\"dataframe\">\n",
       "  <thead>\n",
       "    <tr style=\"text-align: right;\">\n",
       "      <th></th>\n",
       "      <th>churn</th>\n",
       "      <th>tenure</th>\n",
       "      <th>monthlycharges</th>\n",
       "      <th>totalcharges</th>\n",
       "    </tr>\n",
       "  </thead>\n",
       "  <tbody>\n",
       "    <tr>\n",
       "      <th>4380</th>\n",
       "      <td>No</td>\n",
       "      <td>0</td>\n",
       "      <td>20.00</td>\n",
       "      <td>NaN</td>\n",
       "    </tr>\n",
       "    <tr>\n",
       "      <th>3331</th>\n",
       "      <td>No</td>\n",
       "      <td>0</td>\n",
       "      <td>19.85</td>\n",
       "      <td>NaN</td>\n",
       "    </tr>\n",
       "    <tr>\n",
       "      <th>6754</th>\n",
       "      <td>No</td>\n",
       "      <td>0</td>\n",
       "      <td>61.90</td>\n",
       "      <td>NaN</td>\n",
       "    </tr>\n",
       "    <tr>\n",
       "      <th>5218</th>\n",
       "      <td>No</td>\n",
       "      <td>0</td>\n",
       "      <td>19.70</td>\n",
       "      <td>NaN</td>\n",
       "    </tr>\n",
       "  </tbody>\n",
       "</table>\n",
       "</div>"
      ],
      "text/plain": [
       "     churn  tenure  monthlycharges  totalcharges\n",
       "4380    No       0           20.00           NaN\n",
       "3331    No       0           19.85           NaN\n",
       "6754    No       0           61.90           NaN\n",
       "5218    No       0           19.70           NaN"
      ]
     },
     "execution_count": 48,
     "metadata": {},
     "output_type": "execute_result"
    }
   ],
   "source": [
    "impute_totalcharges.sample(4)"
   ]
  },
  {
   "cell_type": "code",
   "execution_count": 51,
   "id": "c8377398-5629-4a98-8209-25ff91c8936a",
   "metadata": {},
   "outputs": [
    {
     "name": "stderr",
     "output_type": "stream",
     "text": [
      "C:\\Users\\Lenovo\\AppData\\Local\\Temp\\ipykernel_7804\\1533237229.py:1: FutureWarning: A value is trying to be set on a copy of a DataFrame or Series through chained assignment using an inplace method.\n",
      "The behavior will change in pandas 3.0. This inplace method will never work because the intermediate object on which we are setting values always behaves as a copy.\n",
      "\n",
      "For example, when doing 'df[col].method(value, inplace=True)', try using 'df.method({col: value}, inplace=True)' or df[col] = df[col].method(value) instead, to perform the operation inplace on the original object.\n",
      "\n",
      "\n",
      "  impute_totalcharges['tenure'].mask(impute_totalcharges['tenure'] == 0, 1, inplace = True)\n"
     ]
    }
   ],
   "source": [
    "impute_totalcharges['tenure'].mask(impute_totalcharges['tenure'] == 0, 1, inplace = True)"
   ]
  },
  {
   "cell_type": "code",
   "execution_count": 52,
   "id": "acd38f6d-0b4e-42e7-90f4-e97c08569d50",
   "metadata": {},
   "outputs": [
    {
     "data": {
      "text/html": [
       "<div>\n",
       "<style scoped>\n",
       "    .dataframe tbody tr th:only-of-type {\n",
       "        vertical-align: middle;\n",
       "    }\n",
       "\n",
       "    .dataframe tbody tr th {\n",
       "        vertical-align: top;\n",
       "    }\n",
       "\n",
       "    .dataframe thead th {\n",
       "        text-align: right;\n",
       "    }\n",
       "</style>\n",
       "<table border=\"1\" class=\"dataframe\">\n",
       "  <thead>\n",
       "    <tr style=\"text-align: right;\">\n",
       "      <th></th>\n",
       "      <th>churn</th>\n",
       "      <th>tenure</th>\n",
       "      <th>monthlycharges</th>\n",
       "      <th>totalcharges</th>\n",
       "    </tr>\n",
       "  </thead>\n",
       "  <tbody>\n",
       "    <tr>\n",
       "      <th>753</th>\n",
       "      <td>No</td>\n",
       "      <td>1</td>\n",
       "      <td>20.25</td>\n",
       "      <td>NaN</td>\n",
       "    </tr>\n",
       "    <tr>\n",
       "      <th>6670</th>\n",
       "      <td>No</td>\n",
       "      <td>1</td>\n",
       "      <td>73.35</td>\n",
       "      <td>NaN</td>\n",
       "    </tr>\n",
       "  </tbody>\n",
       "</table>\n",
       "</div>"
      ],
      "text/plain": [
       "     churn  tenure  monthlycharges  totalcharges\n",
       "753     No       1           20.25           NaN\n",
       "6670    No       1           73.35           NaN"
      ]
     },
     "execution_count": 52,
     "metadata": {},
     "output_type": "execute_result"
    }
   ],
   "source": [
    "impute_totalcharges.sample(2)"
   ]
  },
  {
   "cell_type": "code",
   "execution_count": 58,
   "id": "acfca1a1-b7a3-4b8c-b16b-1ac28bbc8d8d",
   "metadata": {},
   "outputs": [],
   "source": [
    "impute_totalcharges['totalcharges'] = impute_totalcharges['tenure'] * impute_totalcharges['monthlycharges']"
   ]
  },
  {
   "cell_type": "code",
   "execution_count": 61,
   "id": "d47cda80-90a0-418e-8361-2f44b8d7cfb3",
   "metadata": {},
   "outputs": [],
   "source": [
    "impute_totalcharges.drop(columns = 'totalcharges_1', axis = 1, inplace = True)"
   ]
  },
  {
   "cell_type": "code",
   "execution_count": 62,
   "id": "0aaba754-258d-4fd9-b744-f97f73a2bd75",
   "metadata": {},
   "outputs": [
    {
     "data": {
      "text/html": [
       "<div>\n",
       "<style scoped>\n",
       "    .dataframe tbody tr th:only-of-type {\n",
       "        vertical-align: middle;\n",
       "    }\n",
       "\n",
       "    .dataframe tbody tr th {\n",
       "        vertical-align: top;\n",
       "    }\n",
       "\n",
       "    .dataframe thead th {\n",
       "        text-align: right;\n",
       "    }\n",
       "</style>\n",
       "<table border=\"1\" class=\"dataframe\">\n",
       "  <thead>\n",
       "    <tr style=\"text-align: right;\">\n",
       "      <th></th>\n",
       "      <th>churn</th>\n",
       "      <th>tenure</th>\n",
       "      <th>monthlycharges</th>\n",
       "      <th>totalcharges</th>\n",
       "    </tr>\n",
       "  </thead>\n",
       "  <tbody>\n",
       "    <tr>\n",
       "      <th>488</th>\n",
       "      <td>No</td>\n",
       "      <td>1</td>\n",
       "      <td>52.55</td>\n",
       "      <td>52.55</td>\n",
       "    </tr>\n",
       "    <tr>\n",
       "      <th>753</th>\n",
       "      <td>No</td>\n",
       "      <td>1</td>\n",
       "      <td>20.25</td>\n",
       "      <td>20.25</td>\n",
       "    </tr>\n",
       "    <tr>\n",
       "      <th>936</th>\n",
       "      <td>No</td>\n",
       "      <td>1</td>\n",
       "      <td>80.85</td>\n",
       "      <td>80.85</td>\n",
       "    </tr>\n",
       "    <tr>\n",
       "      <th>1082</th>\n",
       "      <td>No</td>\n",
       "      <td>1</td>\n",
       "      <td>25.75</td>\n",
       "      <td>25.75</td>\n",
       "    </tr>\n",
       "    <tr>\n",
       "      <th>1340</th>\n",
       "      <td>No</td>\n",
       "      <td>1</td>\n",
       "      <td>56.05</td>\n",
       "      <td>56.05</td>\n",
       "    </tr>\n",
       "    <tr>\n",
       "      <th>3331</th>\n",
       "      <td>No</td>\n",
       "      <td>1</td>\n",
       "      <td>19.85</td>\n",
       "      <td>19.85</td>\n",
       "    </tr>\n",
       "    <tr>\n",
       "      <th>3826</th>\n",
       "      <td>No</td>\n",
       "      <td>1</td>\n",
       "      <td>25.35</td>\n",
       "      <td>25.35</td>\n",
       "    </tr>\n",
       "    <tr>\n",
       "      <th>4380</th>\n",
       "      <td>No</td>\n",
       "      <td>1</td>\n",
       "      <td>20.00</td>\n",
       "      <td>20.00</td>\n",
       "    </tr>\n",
       "    <tr>\n",
       "      <th>5218</th>\n",
       "      <td>No</td>\n",
       "      <td>1</td>\n",
       "      <td>19.70</td>\n",
       "      <td>19.70</td>\n",
       "    </tr>\n",
       "    <tr>\n",
       "      <th>6670</th>\n",
       "      <td>No</td>\n",
       "      <td>1</td>\n",
       "      <td>73.35</td>\n",
       "      <td>73.35</td>\n",
       "    </tr>\n",
       "    <tr>\n",
       "      <th>6754</th>\n",
       "      <td>No</td>\n",
       "      <td>1</td>\n",
       "      <td>61.90</td>\n",
       "      <td>61.90</td>\n",
       "    </tr>\n",
       "  </tbody>\n",
       "</table>\n",
       "</div>"
      ],
      "text/plain": [
       "     churn  tenure  monthlycharges  totalcharges\n",
       "488     No       1           52.55         52.55\n",
       "753     No       1           20.25         20.25\n",
       "936     No       1           80.85         80.85\n",
       "1082    No       1           25.75         25.75\n",
       "1340    No       1           56.05         56.05\n",
       "3331    No       1           19.85         19.85\n",
       "3826    No       1           25.35         25.35\n",
       "4380    No       1           20.00         20.00\n",
       "5218    No       1           19.70         19.70\n",
       "6670    No       1           73.35         73.35\n",
       "6754    No       1           61.90         61.90"
      ]
     },
     "execution_count": 62,
     "metadata": {},
     "output_type": "execute_result"
    }
   ],
   "source": [
    "impute_totalcharges"
   ]
  },
  {
   "cell_type": "code",
   "execution_count": 63,
   "id": "c25f6f1c-c09f-4fa3-8462-d2193bf090e4",
   "metadata": {},
   "outputs": [
    {
     "data": {
      "text/html": [
       "<div>\n",
       "<style scoped>\n",
       "    .dataframe tbody tr th:only-of-type {\n",
       "        vertical-align: middle;\n",
       "    }\n",
       "\n",
       "    .dataframe tbody tr th {\n",
       "        vertical-align: top;\n",
       "    }\n",
       "\n",
       "    .dataframe thead th {\n",
       "        text-align: right;\n",
       "    }\n",
       "</style>\n",
       "<table border=\"1\" class=\"dataframe\">\n",
       "  <thead>\n",
       "    <tr style=\"text-align: right;\">\n",
       "      <th></th>\n",
       "      <th>customerid</th>\n",
       "      <th>gender</th>\n",
       "      <th>seniorcitizen</th>\n",
       "      <th>partner</th>\n",
       "      <th>dependents</th>\n",
       "      <th>tenure</th>\n",
       "      <th>phoneservice</th>\n",
       "      <th>multiplelines</th>\n",
       "      <th>internetservice</th>\n",
       "      <th>onlinesecurity</th>\n",
       "      <th>...</th>\n",
       "      <th>deviceprotection</th>\n",
       "      <th>techsupport</th>\n",
       "      <th>streamingtv</th>\n",
       "      <th>streamingmovies</th>\n",
       "      <th>contract</th>\n",
       "      <th>paperlessbilling</th>\n",
       "      <th>paymentmethod</th>\n",
       "      <th>monthlycharges</th>\n",
       "      <th>totalcharges</th>\n",
       "      <th>churn</th>\n",
       "    </tr>\n",
       "  </thead>\n",
       "  <tbody>\n",
       "    <tr>\n",
       "      <th>3575</th>\n",
       "      <td>9501-UKKNL</td>\n",
       "      <td>Male</td>\n",
       "      <td>0</td>\n",
       "      <td>No</td>\n",
       "      <td>No</td>\n",
       "      <td>59</td>\n",
       "      <td>No</td>\n",
       "      <td>No phone service</td>\n",
       "      <td>DSL</td>\n",
       "      <td>No</td>\n",
       "      <td>...</td>\n",
       "      <td>No</td>\n",
       "      <td>Yes</td>\n",
       "      <td>Yes</td>\n",
       "      <td>Yes</td>\n",
       "      <td>Month-to-month</td>\n",
       "      <td>Yes</td>\n",
       "      <td>Electronic check</td>\n",
       "      <td>51.70</td>\n",
       "      <td>3005.80</td>\n",
       "      <td>No</td>\n",
       "    </tr>\n",
       "    <tr>\n",
       "      <th>5919</th>\n",
       "      <td>6625-IUTTT</td>\n",
       "      <td>Male</td>\n",
       "      <td>0</td>\n",
       "      <td>No</td>\n",
       "      <td>No</td>\n",
       "      <td>67</td>\n",
       "      <td>Yes</td>\n",
       "      <td>No</td>\n",
       "      <td>DSL</td>\n",
       "      <td>Yes</td>\n",
       "      <td>...</td>\n",
       "      <td>Yes</td>\n",
       "      <td>No</td>\n",
       "      <td>No</td>\n",
       "      <td>Yes</td>\n",
       "      <td>Two year</td>\n",
       "      <td>No</td>\n",
       "      <td>Bank transfer (automatic)</td>\n",
       "      <td>65.55</td>\n",
       "      <td>4361.55</td>\n",
       "      <td>No</td>\n",
       "    </tr>\n",
       "    <tr>\n",
       "      <th>5309</th>\n",
       "      <td>0704-VCUMB</td>\n",
       "      <td>Female</td>\n",
       "      <td>0</td>\n",
       "      <td>Yes</td>\n",
       "      <td>No</td>\n",
       "      <td>61</td>\n",
       "      <td>Yes</td>\n",
       "      <td>No</td>\n",
       "      <td>No</td>\n",
       "      <td>No internet service</td>\n",
       "      <td>...</td>\n",
       "      <td>No internet service</td>\n",
       "      <td>No internet service</td>\n",
       "      <td>No internet service</td>\n",
       "      <td>No internet service</td>\n",
       "      <td>Two year</td>\n",
       "      <td>No</td>\n",
       "      <td>Credit card (automatic)</td>\n",
       "      <td>20.25</td>\n",
       "      <td>1278.80</td>\n",
       "      <td>No</td>\n",
       "    </tr>\n",
       "    <tr>\n",
       "      <th>6942</th>\n",
       "      <td>3454-JFUBC</td>\n",
       "      <td>Male</td>\n",
       "      <td>1</td>\n",
       "      <td>No</td>\n",
       "      <td>No</td>\n",
       "      <td>68</td>\n",
       "      <td>Yes</td>\n",
       "      <td>No</td>\n",
       "      <td>No</td>\n",
       "      <td>No internet service</td>\n",
       "      <td>...</td>\n",
       "      <td>No internet service</td>\n",
       "      <td>No internet service</td>\n",
       "      <td>No internet service</td>\n",
       "      <td>No internet service</td>\n",
       "      <td>Two year</td>\n",
       "      <td>Yes</td>\n",
       "      <td>Credit card (automatic)</td>\n",
       "      <td>20.00</td>\n",
       "      <td>1396.00</td>\n",
       "      <td>No</td>\n",
       "    </tr>\n",
       "    <tr>\n",
       "      <th>4093</th>\n",
       "      <td>2476-YGEFM</td>\n",
       "      <td>Female</td>\n",
       "      <td>0</td>\n",
       "      <td>No</td>\n",
       "      <td>No</td>\n",
       "      <td>29</td>\n",
       "      <td>Yes</td>\n",
       "      <td>Yes</td>\n",
       "      <td>Fiber optic</td>\n",
       "      <td>No</td>\n",
       "      <td>...</td>\n",
       "      <td>No</td>\n",
       "      <td>No</td>\n",
       "      <td>No</td>\n",
       "      <td>No</td>\n",
       "      <td>Month-to-month</td>\n",
       "      <td>Yes</td>\n",
       "      <td>Credit card (automatic)</td>\n",
       "      <td>76.00</td>\n",
       "      <td>2215.25</td>\n",
       "      <td>No</td>\n",
       "    </tr>\n",
       "  </tbody>\n",
       "</table>\n",
       "<p>5 rows × 21 columns</p>\n",
       "</div>"
      ],
      "text/plain": [
       "      customerid  gender  seniorcitizen partner dependents  tenure  \\\n",
       "3575  9501-UKKNL    Male              0      No         No      59   \n",
       "5919  6625-IUTTT    Male              0      No         No      67   \n",
       "5309  0704-VCUMB  Female              0     Yes         No      61   \n",
       "6942  3454-JFUBC    Male              1      No         No      68   \n",
       "4093  2476-YGEFM  Female              0      No         No      29   \n",
       "\n",
       "     phoneservice     multiplelines internetservice       onlinesecurity  ...  \\\n",
       "3575           No  No phone service             DSL                   No  ...   \n",
       "5919          Yes                No             DSL                  Yes  ...   \n",
       "5309          Yes                No              No  No internet service  ...   \n",
       "6942          Yes                No              No  No internet service  ...   \n",
       "4093          Yes               Yes     Fiber optic                   No  ...   \n",
       "\n",
       "         deviceprotection          techsupport          streamingtv  \\\n",
       "3575                   No                  Yes                  Yes   \n",
       "5919                  Yes                   No                   No   \n",
       "5309  No internet service  No internet service  No internet service   \n",
       "6942  No internet service  No internet service  No internet service   \n",
       "4093                   No                   No                   No   \n",
       "\n",
       "          streamingmovies        contract paperlessbilling  \\\n",
       "3575                  Yes  Month-to-month              Yes   \n",
       "5919                  Yes        Two year               No   \n",
       "5309  No internet service        Two year               No   \n",
       "6942  No internet service        Two year              Yes   \n",
       "4093                   No  Month-to-month              Yes   \n",
       "\n",
       "                  paymentmethod monthlycharges  totalcharges  churn  \n",
       "3575           Electronic check          51.70       3005.80     No  \n",
       "5919  Bank transfer (automatic)          65.55       4361.55     No  \n",
       "5309    Credit card (automatic)          20.25       1278.80     No  \n",
       "6942    Credit card (automatic)          20.00       1396.00     No  \n",
       "4093    Credit card (automatic)          76.00       2215.25     No  \n",
       "\n",
       "[5 rows x 21 columns]"
      ]
     },
     "execution_count": 63,
     "metadata": {},
     "output_type": "execute_result"
    }
   ],
   "source": [
    "import copy\n",
    "\n",
    "new_df = copy.copy(df)\n",
    "new_df.sample(5)"
   ]
  },
  {
   "cell_type": "code",
   "execution_count": 64,
   "id": "f17896bd-0a6f-42f0-a2ea-4aeb011ac037",
   "metadata": {},
   "outputs": [],
   "source": [
    "new_df.update(impute_totalcharges)"
   ]
  },
  {
   "cell_type": "code",
   "execution_count": 66,
   "id": "4283e9b0-cfb5-4ae9-8c7b-962c1ffd5134",
   "metadata": {},
   "outputs": [],
   "source": [
    "new_df.to_csv('churn_imputed.csv',index=False)"
   ]
  },
  {
   "cell_type": "code",
   "execution_count": null,
   "id": "9c89e204-872f-4fd4-b460-4e9275cea494",
   "metadata": {},
   "outputs": [],
   "source": []
  }
 ],
 "metadata": {
  "kernelspec": {
   "display_name": "Python 3 (ipykernel)",
   "language": "python",
   "name": "python3"
  },
  "language_info": {
   "codemirror_mode": {
    "name": "ipython",
    "version": 3
   },
   "file_extension": ".py",
   "mimetype": "text/x-python",
   "name": "python",
   "nbconvert_exporter": "python",
   "pygments_lexer": "ipython3",
   "version": "3.12.3"
  }
 },
 "nbformat": 4,
 "nbformat_minor": 5
}
